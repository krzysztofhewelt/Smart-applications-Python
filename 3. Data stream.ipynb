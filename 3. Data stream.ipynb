{
 "cells": [
  {
   "cell_type": "markdown",
   "id": "309bed85-a443-4298-ae00-e2a9e48ea09d",
   "metadata": {},
   "source": [
    "# Collections and data stream"
   ]
  },
  {
   "cell_type": "markdown",
   "id": "000aa68a-dbab-4d99-9f69-4bf17ab11fe6",
   "metadata": {},
   "source": [
    "# Task 1."
   ]
  },
  {
   "cell_type": "code",
   "execution_count": 25,
   "id": "df20978d-cbb8-4443-b652-416ac8fbcb5b",
   "metadata": {},
   "outputs": [
    {
     "name": "stdout",
     "output_type": "stream",
     "text": [
      "Name: Ela. Surname: Śmigalska. Age: 34. City: Lublin\n",
      "Name: Mariusz. Surname: Tomalski. Age: 33. City: Gdynia\n",
      "Name: Janusz. Surname: Nowak. Age: 6. City: Gdańsk\n",
      "Name: Maria. Surname: Bazowa. Age: 9. City: Warszawa\n",
      "Name: Edek. Surname: Śmigalsi. Age: 33. City: Lublin\n",
      "Name: Michał. Surname: Kowalski. Age: 23. City: Gdynia\n",
      "Name: Paweł. Surname: Tokarski. Age: 31. City: Poznań\n",
      "Name: Michał. Surname: Makowski. Age: 25. City: Gdynia\n",
      "Name: Ela. Surname: Tkaczyk. Age: 28. City: Poznań\n",
      "Name: Paweł. Surname: Mirecki. Age: 34. City: Lublin\n",
      "Name: Paweł. Surname: Dobrocki. Age: 14. City: Gdynia\n"
     ]
    }
   ],
   "source": [
    "import functools\n",
    "from itertools import groupby\n",
    "\n",
    "class Person:\n",
    "    def __init__(self, name, surname, age, city):\n",
    "        self.name = name\n",
    "        self.surname = surname\n",
    "        self.age = age\n",
    "        self.city = city\n",
    "    def __str__(self):\n",
    "        return \"Name: \" + self.name + \". Surname: \" + self.surname + \". Age: \" + str(self.age) + \". City: \" + self.city\n",
    "    def __repr__(self):\n",
    "        return \"Surname: \" + self.surname\n",
    "    \n",
    "people = []\n",
    "people.append(Person(\"Ela\", \"Śmigalska\", 34, \"Lublin\"))\n",
    "people.append(Person(\"Mariusz\", \"Tomalski\", 33, \"Gdynia\"))\n",
    "people.append(Person(\"Janusz\", \"Nowak\", 6, \"Gdańsk\"))\n",
    "people.append(Person(\"Maria\", \"Bazowa\", 9, \"Warszawa\"))\n",
    "people.append(Person(\"Edek\", \"Śmigalsi\", 33, \"Lublin\"))\n",
    "people.append(Person(\"Michał\", \"Kowalski\", 23, \"Gdynia\"))\n",
    "people.append(Person(\"Paweł\", \"Tokarski\", 31, \"Poznań\"))\n",
    "people.append(Person(\"Michał\", \"Makowski\", 25, \"Gdynia\"))\n",
    "people.append(Person(\"Ela\", \"Tkaczyk\", 28, \"Poznań\"))\n",
    "people.append(Person(\"Paweł\", \"Mirecki\", 34, \"Lublin\"))\n",
    "people.append(Person(\"Paweł\", \"Dobrocki\", 14, \"Gdynia\"))\n",
    "\n",
    "# details of all the people\n",
    "print(*people, sep=\"\\n\")"
   ]
  },
  {
   "cell_type": "markdown",
   "id": "8043427b-9840-4b91-8f6a-4d5b93970627",
   "metadata": {
    "tags": []
   },
   "source": [
    "### 1.1 List of people from Gdynia"
   ]
  },
  {
   "cell_type": "code",
   "execution_count": 24,
   "id": "4399eff6-d093-43d6-bd36-f1842da433d6",
   "metadata": {},
   "outputs": [
    {
     "name": "stdout",
     "output_type": "stream",
     "text": [
      "Name: Mariusz. Surname: Tomalski. Age: 33. City: Gdynia\n",
      "Name: Michał. Surname: Kowalski. Age: 23. City: Gdynia\n",
      "Name: Michał. Surname: Makowski. Age: 25. City: Gdynia\n",
      "Name: Paweł. Surname: Dobrocki. Age: 14. City: Gdynia\n"
     ]
    }
   ],
   "source": [
    "result = list(filter(lambda a: a.city==\"Gdynia\", people))\n",
    "print(*result, sep=\"\\n\")"
   ]
  },
  {
   "cell_type": "markdown",
   "id": "574d553e-5ac7-427a-aed8-08f8c07ad760",
   "metadata": {
    "tags": []
   },
   "source": [
    "### 1.2 List of people older than 25 years old"
   ]
  },
  {
   "cell_type": "code",
   "execution_count": 23,
   "id": "ef5a4729-9892-4fc7-8540-1001b89354d2",
   "metadata": {},
   "outputs": [
    {
     "name": "stdout",
     "output_type": "stream",
     "text": [
      "Name: Janusz. Surname: Nowak. Age: 6. City: Gdańsk\n",
      "Name: Maria. Surname: Bazowa. Age: 9. City: Warszawa\n",
      "Name: Michał. Surname: Kowalski. Age: 23. City: Gdynia\n",
      "Name: Paweł. Surname: Dobrocki. Age: 14. City: Gdynia\n"
     ]
    }
   ],
   "source": [
    "result = list(filter(lambda a: a.age<25, people))\n",
    "print(*result, sep=\"\\n\")"
   ]
  },
  {
   "cell_type": "markdown",
   "id": "5c5e72e8-1046-4955-8f1c-5d2481e61974",
   "metadata": {},
   "source": [
    "### 1.3 List of people whose name consists of more than 3 letters"
   ]
  },
  {
   "cell_type": "code",
   "execution_count": 22,
   "id": "b9cac3b7-6469-483c-a702-796f215b4f1b",
   "metadata": {},
   "outputs": [
    {
     "name": "stdout",
     "output_type": "stream",
     "text": [
      "Name: Mariusz. Surname: Tomalski. Age: 33. City: Gdynia\n",
      "Name: Janusz. Surname: Nowak. Age: 6. City: Gdańsk\n",
      "Name: Maria. Surname: Bazowa. Age: 9. City: Warszawa\n",
      "Name: Edek. Surname: Śmigalsi. Age: 33. City: Lublin\n",
      "Name: Michał. Surname: Kowalski. Age: 23. City: Gdynia\n",
      "Name: Paweł. Surname: Tokarski. Age: 31. City: Poznań\n",
      "Name: Michał. Surname: Makowski. Age: 25. City: Gdynia\n",
      "Name: Paweł. Surname: Mirecki. Age: 34. City: Lublin\n",
      "Name: Paweł. Surname: Dobrocki. Age: 14. City: Gdynia\n"
     ]
    }
   ],
   "source": [
    "result = list(filter(lambda a: len(a.name)>3, people))\n",
    "print(*result, sep=\"\\n\")"
   ]
  },
  {
   "cell_type": "markdown",
   "id": "170f64ee-adea-4375-92b0-b9fd29f0e4d2",
   "metadata": {},
   "source": [
    "### 1.4 Average age of people from Poznań"
   ]
  },
  {
   "cell_type": "code",
   "execution_count": 5,
   "id": "e2f7bdfc-d7b0-4617-bf7c-f26ec52ff5ca",
   "metadata": {},
   "outputs": [
    {
     "name": "stdout",
     "output_type": "stream",
     "text": [
      "29.5\n"
     ]
    }
   ],
   "source": [
    "peopleFromPoznan = list(filter(lambda a: a.city==\"Poznań\", people))\n",
    "print(functools.reduce(lambda a,b: a.age+b.age, peopleFromPoznan)/len(peopleFromPoznan))"
   ]
  },
  {
   "cell_type": "markdown",
   "id": "bb536d00-2ce4-4ab4-a4df-38c3edc110b3",
   "metadata": {},
   "source": [
    "### 1.5 Number of people from each city"
   ]
  },
  {
   "cell_type": "code",
   "execution_count": 9,
   "id": "aa9a7bfb-d3c8-4cb2-b01d-0c79b0271992",
   "metadata": {},
   "outputs": [
    {
     "name": "stdout",
     "output_type": "stream",
     "text": [
      "('Gdańsk', 1)\n",
      "('Gdynia', 4)\n",
      "('Lublin', 3)\n",
      "('Poznań', 2)\n",
      "('Warszawa', 1)\n"
     ]
    }
   ],
   "source": [
    "sortedCities = sorted(people, key=lambda a: a.city)\n",
    "result = [ (key, len(list(data))) for(key,data) in groupby(sortedCities, key=lambda x: x.city) ]\n",
    "print(*result, sep=\"\\n\")"
   ]
  },
  {
   "cell_type": "markdown",
   "id": "63fcd980-6da4-49aa-a906-0b64e5fa0d43",
   "metadata": {},
   "source": [
    "### 1.6 List of people with the same name"
   ]
  },
  {
   "cell_type": "code",
   "execution_count": 10,
   "id": "cce9db92-e9b4-4da2-b23c-b799697c0614",
   "metadata": {},
   "outputs": [
    {
     "name": "stdout",
     "output_type": "stream",
     "text": [
      "('Edek', 1)\n",
      "('Ela', 2)\n",
      "('Janusz', 1)\n",
      "('Maria', 1)\n",
      "('Mariusz', 1)\n",
      "('Michał', 2)\n",
      "('Paweł', 3)\n"
     ]
    }
   ],
   "source": [
    "sortedNames = sorted(people, key=lambda a: a.name)\n",
    "result = [ (key, len(list(data))) for(key,data) in groupby(sortedNames, key=lambda x: x.name) ]\n",
    "print(*result, sep=\"\\n\")"
   ]
  },
  {
   "cell_type": "markdown",
   "id": "e8fee0f7-365e-41ba-9980-48c353960f03",
   "metadata": {},
   "source": [
    "### 1.7 List of people whose name begins with E"
   ]
  },
  {
   "cell_type": "code",
   "execution_count": 21,
   "id": "3b111e3b-3bb8-459c-b89d-a64dd8659cb9",
   "metadata": {},
   "outputs": [
    {
     "name": "stdout",
     "output_type": "stream",
     "text": [
      "Name: Ela. Surname: Śmigalska. Age: 34. City: Lublin\n",
      "Name: Edek. Surname: Śmigalsi. Age: 33. City: Lublin\n",
      "Name: Ela. Surname: Tkaczyk. Age: 28. City: Poznań\n"
     ]
    }
   ],
   "source": [
    "result = list(filter(lambda a: a.name.find(\"E\", 0, 1) != -1, people))\n",
    "print(*result, sep=\"\\n\")"
   ]
  },
  {
   "cell_type": "markdown",
   "id": "aa5c735b-32f9-431a-9542-479b36fdd8e2",
   "metadata": {},
   "source": [
    "### 1.8 List of people whose name contains \"la\""
   ]
  },
  {
   "cell_type": "code",
   "execution_count": 20,
   "id": "278ad15d-6aa9-4503-9c40-8f5d697d7d42",
   "metadata": {},
   "outputs": [
    {
     "name": "stdout",
     "output_type": "stream",
     "text": [
      "Name: Ela. Surname: Śmigalska. Age: 34. City: Lublin\n",
      "Name: Ela. Surname: Tkaczyk. Age: 28. City: Poznań\n"
     ]
    }
   ],
   "source": [
    "result = list(filter(lambda a: a.name.find(\"la\") != -1, people))\n",
    "print(*result, sep=\"\\n\")"
   ]
  },
  {
   "cell_type": "markdown",
   "id": "cb716e0e-e23a-4521-a18a-e8f7c6c4f8cb",
   "metadata": {},
   "source": [
    "### 1.9 Distinct list of all cities, sorted ascending."
   ]
  },
  {
   "cell_type": "code",
   "execution_count": 15,
   "id": "a460e51f-a36a-4309-ad48-707e8219a092",
   "metadata": {},
   "outputs": [
    {
     "name": "stdout",
     "output_type": "stream",
     "text": [
      "Gdańsk\n",
      "Gdynia\n",
      "Lublin\n",
      "Poznań\n",
      "Warszawa\n"
     ]
    }
   ],
   "source": [
    "sortedCities = sorted(people, key=lambda a: a.city)\n",
    "result = [ (key) for(key,data) in groupby(sortedCities, key=lambda x: x.city) ]\n",
    "print(*result, sep=\"\\n\")"
   ]
  },
  {
   "cell_type": "markdown",
   "id": "8ab277f8-bf50-4229-82ac-a29800ff1965",
   "metadata": {},
   "source": [
    "### 1.10 Age of the oldest person"
   ]
  },
  {
   "cell_type": "code",
   "execution_count": 28,
   "id": "e15fe8f2-00ca-4f0d-a0a5-6c9932772112",
   "metadata": {},
   "outputs": [
    {
     "name": "stdout",
     "output_type": "stream",
     "text": [
      "34\n",
      "34\n"
     ]
    }
   ],
   "source": [
    "# with sort\n",
    "resultSorted = sorted(people, key=lambda a: a.age, reverse=True)\n",
    "print(resultSorted[0].age)\n",
    "\n",
    "# with reduce\n",
    "resultReduce = functools.reduce(lambda x, y: x if x.age > y.age else y, people)\n",
    "print(resultReduce.age)"
   ]
  },
  {
   "cell_type": "markdown",
   "id": "4764086f-32b4-4c85-9a25-80c9ad4d4128",
   "metadata": {},
   "source": [
    "# Task 2.\n",
    "### Processing at data from file"
   ]
  },
  {
   "cell_type": "code",
   "execution_count": 2,
   "id": "831d0c53-0b95-47aa-8745-1de46e518718",
   "metadata": {},
   "outputs": [
    {
     "name": "stdout",
     "output_type": "stream",
     "text": [
      "[39..., 50..., 38..., 53...]\n"
     ]
    }
   ],
   "source": [
    "import functools\n",
    "from itertools import groupby, islice\n",
    "\n",
    "class Person:\n",
    "  def __init__(self, data):\n",
    "    self.age = int(data[0]);\n",
    "    self.workclass = data[1];\n",
    "    self.fnlwgt = data[2];\n",
    "    self.education = data[3];\n",
    "    self.educationNum = int(data[4]);\n",
    "    self.maritalStatus = data[5];\n",
    "    self.occupation = data[6];\n",
    "    self.relationship = data[7];\n",
    "    self.race = data[8];\n",
    "    self.sex = data[9];\n",
    "    self.capitalGain = data[10];\n",
    "    self.capitalLoss = data[11];\n",
    "    self.hoursPerWeek = int(data[12]);\n",
    "    self.nativeCountry = data[13];\n",
    "    self.gainClass = data[14];\n",
    "    \n",
    "  def __str__(self):\n",
    "    return str(vars(self))\n",
    "\n",
    "  def __repr__(self):\n",
    "    return str(self.age) + \"...\"\n",
    " \n",
    "def read():\n",
    "    for row in open(\"adult.data\", \"r\"):\n",
    "        if( row.strip()):\n",
    "            yield Person( row.split(\", \"))\n",
    "        \n",
    "def countElements(gen):\n",
    "    return sum(1 for g in gen)\n",
    "    \n",
    "\n",
    "# read data from file\n",
    "people = read()\n",
    "\n",
    "# show first four people\n",
    "print(list(islice(people, 4)))"
   ]
  },
  {
   "cell_type": "markdown",
   "id": "65338b8c-b9df-426e-ac20-c4120a9b91e4",
   "metadata": {},
   "source": [
    "### 2.1. Womens from Mexico with HS-grad education."
   ]
  },
  {
   "cell_type": "code",
   "execution_count": 3,
   "id": "1ee42f3b-0de1-4d3a-8738-4328f555577a",
   "metadata": {},
   "outputs": [
    {
     "name": "stdout",
     "output_type": "stream",
     "text": [
      "[23..., 31..., 32..., 53..., 29..., 40..., 28..., 20..., 26..., 20..., 25..., 56..., 24..., 20..., 29..., 25..., 20..., 22..., 31..., 30..., 26..., 26..., 27..., 31..., 25..., 34..., 24..., 37..., 41..., 22..., 51..., 20..., 28..., 22..., 28..., 33..., 24...]\n"
     ]
    }
   ],
   "source": [
    "womens = list(filter(lambda o: o.sex==\"Female\" and o.nativeCountry==\"Mexico\" and o.education==\"HS-grad\", read()))\n",
    "print(womens)"
   ]
  },
  {
   "cell_type": "markdown",
   "id": "d71885f1-133d-4ac4-983d-ba72c5b7c003",
   "metadata": {},
   "source": [
    "### 2.2. Number of people who took part in the census, divide by womens and men."
   ]
  },
  {
   "cell_type": "code",
   "execution_count": 6,
   "id": "f9ba150c-5bca-4edf-bd0c-379231ba8717",
   "metadata": {},
   "outputs": [
    {
     "name": "stdout",
     "output_type": "stream",
     "text": [
      "('Female', 10771)\n",
      "('Male', 21790)\n"
     ]
    }
   ],
   "source": [
    "peopleSorted = sorted(read(), key=lambda a: a.sex)\n",
    "result = [ (key, len(list(data))) for(key,data) in groupby(peopleSorted, key=lambda x: x.sex) ]\n",
    "print(*result, sep=\"\\n\")"
   ]
  },
  {
   "cell_type": "markdown",
   "id": "f1edf683-c57a-4abe-9faa-d663db64dc34",
   "metadata": {},
   "source": [
    "### 2.3 Average age of Never-married people with form of employment Private."
   ]
  },
  {
   "cell_type": "code",
   "execution_count": 7,
   "id": "16939b3a-c657-4b40-8815-c88de3c43f3d",
   "metadata": {},
   "outputs": [
    {
     "name": "stdout",
     "output_type": "stream",
     "text": [
      "27.64769118006352\n"
     ]
    }
   ],
   "source": [
    "peopleNeverAndPrivate = list(filter(lambda o: o.maritalStatus == \"Never-married\" and o.workclass == \"Private\", read()))\n",
    "print(functools.reduce(lambda a,b: a+b.age, peopleNeverAndPrivate, 0)/len(peopleNeverAndPrivate))"
   ]
  },
  {
   "cell_type": "markdown",
   "id": "ae0530c1-7003-46a8-b781-3a17fffe6bf3",
   "metadata": {},
   "source": [
    "### 2.4. Number of people with education numerically 9 to 13 working 20 to 30 hours per week grouped by form of employment."
   ]
  },
  {
   "cell_type": "code",
   "execution_count": 11,
   "id": "0e7e07c0-4ee4-42bd-a519-3520d91ef971",
   "metadata": {},
   "outputs": [
    {
     "name": "stdout",
     "output_type": "stream",
     "text": [
      "('?', 321)\n",
      "('Federal-gov', 28)\n",
      "('Local-gov', 106)\n",
      "('Private', 1871)\n",
      "('Self-emp-inc', 48)\n",
      "('Self-emp-not-inc', 223)\n",
      "('State-gov', 87)\n",
      "('Without-pay', 5)\n"
     ]
    }
   ],
   "source": [
    "peopleFiltered = list(filter(lambda o: o.educationNum >= 9 and o.educationNum <= 13 and o.hoursPerWeek >= 20 and o.hoursPerWeek <= 30, read()))\n",
    "peopleFilteredAndSorted = sorted(peopleFiltered, key=lambda a: a.workclass)\n",
    "result = [ (key, len(list(data))) for(key,data) in groupby(peopleFilteredAndSorted, key=lambda x: x.workclass) ]\n",
    "\n",
    "print(*result, sep=\"\\n\")"
   ]
  },
  {
   "cell_type": "markdown",
   "id": "60a0b4d8-8466-4ae6-9d0c-72f5ab5ecffd",
   "metadata": {},
   "source": [
    "### 2.5 Numbers of people from the US with the same education"
   ]
  },
  {
   "cell_type": "code",
   "execution_count": 13,
   "id": "7b0ef5c4-d1d8-45e5-90a2-3677095e48ef",
   "metadata": {},
   "outputs": [
    {
     "name": "stdout",
     "output_type": "stream",
     "text": [
      "('10th', 848)\n",
      "('11th', 1067)\n",
      "('12th', 365)\n",
      "('1st-4th', 46)\n",
      "('5th-6th', 97)\n",
      "('7th-8th', 499)\n",
      "('9th', 395)\n",
      "('Assoc-acdm', 982)\n",
      "('Assoc-voc', 1289)\n",
      "('Bachelors', 4766)\n",
      "('Doctorate', 328)\n",
      "('HS-grad', 9702)\n",
      "('Masters', 1527)\n",
      "('Preschool', 17)\n",
      "('Prof-school', 502)\n",
      "('Some-college', 6740)\n"
     ]
    }
   ],
   "source": [
    "peopleFromUS = list(filter(lambda o: o.nativeCountry == \"United-States\", read()))\n",
    "peopleFromUSSortedByEducation = sorted(peopleFromUS, key=lambda a: a.education)\n",
    "result = [ (key, len(list(data))) for(key,data) in groupby(peopleFromUSSortedByEducation, key=lambda x: x.education) ]\n",
    "\n",
    "print(*result, sep=\"\\n\")"
   ]
  },
  {
   "cell_type": "markdown",
   "id": "0a8c57f5-899a-4f8c-8dc1-fa4e6224c814",
   "metadata": {
    "tags": []
   },
   "source": [
    "### 2.6 Average hours worked per week by Bachelors degree holders for each form of employment."
   ]
  },
  {
   "cell_type": "code",
   "execution_count": 14,
   "id": "e697a14d-e31c-41cf-944c-9a92641704a5",
   "metadata": {},
   "outputs": [
    {
     "name": "stdout",
     "output_type": "stream",
     "text": [
      "('?', 32.42)\n",
      "('Federal-gov', 42.62)\n",
      "('Local-gov', 42.14)\n",
      "('Private', 42.7)\n",
      "('Self-emp-inc', 49.4)\n",
      "('Self-emp-not-inc', 44.18)\n",
      "('State-gov', 39.69)\n"
     ]
    }
   ],
   "source": [
    "peopleWithBachelors = list(filter(lambda o: o.education==\"Bachelors\", read()))\n",
    "workclassSorted = sorted(peopleWithBachelors, key=lambda o: o.workclass)\n",
    "workclassAverage = [ (key, list(map(lambda o: o.hoursPerWeek, data))) for(key,data) in groupby(workclassSorted, key=lambda x: x.workclass) ]\n",
    "\n",
    "result = map(lambda o: (o[0], round(functools.reduce(lambda x,y: x+y, o[1])/len(o[1]), 2)), workclassAverage)\n",
    "print(*result, sep=\"\\n\")"
   ]
  },
  {
   "cell_type": "markdown",
   "id": "f8f432f0-3500-4d0d-86db-925f9f36e2a8",
   "metadata": {},
   "source": [
    "### 2.7. Minimum and maximum age of working people in different occupational groups."
   ]
  },
  {
   "cell_type": "code",
   "execution_count": 15,
   "id": "7576cd30-26d1-42c4-9810-b5b0b2e9066b",
   "metadata": {},
   "outputs": [
    {
     "name": "stdout",
     "output_type": "stream",
     "text": [
      "('?', 17, 90)\n",
      "('Adm-clerical', 17, 90)\n",
      "('Armed-Forces', 23, 46)\n",
      "('Craft-repair', 17, 90)\n",
      "('Exec-managerial', 17, 90)\n",
      "('Farming-fishing', 17, 90)\n",
      "('Handlers-cleaners', 17, 90)\n",
      "('Machine-op-inspct', 17, 90)\n",
      "('Other-service', 17, 90)\n",
      "('Priv-house-serv', 17, 81)\n",
      "('Prof-specialty', 17, 90)\n",
      "('Protective-serv', 17, 90)\n",
      "('Sales', 17, 90)\n",
      "('Tech-support', 17, 73)\n",
      "('Transport-moving', 17, 90)\n"
     ]
    }
   ],
   "source": [
    "occupationSorted = sorted(read(), key=lambda o: o.occupation)\n",
    "occupations = [ (key, list(map(lambda o: o.age, data))) for(key,data) in groupby(occupationSorted, key=lambda x: x.occupation) ]\n",
    "\n",
    "# TUPLE FORMAT:\n",
    "# (\"occupation\", min. age, max. age)\n",
    "ageInOccupations = map(lambda o: (o[0], \n",
    "                            functools.reduce(lambda x, y: x if x < y else y, o[1]),\n",
    "                            functools.reduce(lambda x, y: x if x > y else y, o[1])\n",
    "                            ), \n",
    "                occupations)\n",
    "\n",
    "print(*ageInOccupations, sep=\"\\n\")"
   ]
  },
  {
   "cell_type": "markdown",
   "id": "982ae302-feba-4207-afac-2da81b4b0ae9",
   "metadata": {},
   "source": [
    "### 2.8 List of men from Cuba or Jamaica with HS-grad education."
   ]
  },
  {
   "cell_type": "code",
   "execution_count": 16,
   "id": "b6205333-dde5-4afb-ba74-bd34e232319b",
   "metadata": {},
   "outputs": [
    {
     "name": "stdout",
     "output_type": "stream",
     "text": [
      "[33..., 57..., 38..., 35..., 41..., 44..., 82..., 77..., 28..., 53..., 21..., 72..., 57..., 33..., 42..., 39..., 47..., 24..., 59..., 25..., 18..., 37..., 55...]\n"
     ]
    }
   ],
   "source": [
    "men = list(filter(lambda o: (o.nativeCountry==\"Cuba\" or o.nativeCountry==\"Jamaica\") and o.education==\"HS-grad\" and o.sex==\"Male\", read()))\n",
    "print(men)"
   ]
  },
  {
   "cell_type": "markdown",
   "id": "e5eb54bf-366b-4a07-bf74-f39fceca1087",
   "metadata": {},
   "source": [
    "### 2.9 Number of divorced people under the age of 30 from the US."
   ]
  },
  {
   "cell_type": "code",
   "execution_count": 18,
   "id": "119c3873-2b3a-43fe-afb7-a5d06d2594bb",
   "metadata": {},
   "outputs": [
    {
     "name": "stdout",
     "output_type": "stream",
     "text": [
      "371\n"
     ]
    }
   ],
   "source": [
    "print(len(list(filter(lambda o: o.maritalStatus==\"Divorced\" and o.age<30 and o.nativeCountry==\"United-States\", read()))))"
   ]
  },
  {
   "cell_type": "markdown",
   "id": "983404f4-27a8-4474-9117-2ff5b1b5b7f2",
   "metadata": {},
   "source": [
    "### 2.10 Numbers of people who took part in the census for each level of education."
   ]
  },
  {
   "cell_type": "code",
   "execution_count": 19,
   "id": "80d25b94-b8cd-45b2-b6a0-0347d395a23f",
   "metadata": {},
   "outputs": [
    {
     "name": "stdout",
     "output_type": "stream",
     "text": [
      "('10th', 933)\n",
      "('11th', 1175)\n",
      "('12th', 433)\n",
      "('1st-4th', 168)\n",
      "('5th-6th', 333)\n",
      "('7th-8th', 646)\n",
      "('9th', 514)\n",
      "('Assoc-acdm', 1067)\n",
      "('Assoc-voc', 1382)\n",
      "('Bachelors', 5355)\n",
      "('Doctorate', 413)\n",
      "('HS-grad', 10501)\n",
      "('Masters', 1723)\n",
      "('Preschool', 51)\n",
      "('Prof-school', 576)\n",
      "('Some-college', 7291)\n"
     ]
    }
   ],
   "source": [
    "educationSorted = sorted(read(), key=lambda o: o.education)\n",
    "peopleWithEducation = [ (key, len(list(data))) for(key,data) in groupby(educationSorted, key=lambda x: x.education) ]\n",
    "\n",
    "print(*peopleWithEducation, sep=\"\\n\")"
   ]
  },
  {
   "cell_type": "code",
   "execution_count": null,
   "id": "0b8d6187-b54b-4629-9ff1-bdb6c5350795",
   "metadata": {},
   "outputs": [],
   "source": []
  }
 ],
 "metadata": {
  "kernelspec": {
   "display_name": "Python 3 (ipykernel)",
   "language": "python",
   "name": "python3"
  },
  "language_info": {
   "codemirror_mode": {
    "name": "ipython",
    "version": 3
   },
   "file_extension": ".py",
   "mimetype": "text/x-python",
   "name": "python",
   "nbconvert_exporter": "python",
   "pygments_lexer": "ipython3",
   "version": "3.10.6"
  }
 },
 "nbformat": 4,
 "nbformat_minor": 5
}
