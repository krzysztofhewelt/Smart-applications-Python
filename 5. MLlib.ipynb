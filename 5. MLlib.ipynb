{
 "cells": [
  {
   "cell_type": "markdown",
   "id": "e036e170-0a36-422d-a7e8-a6b209a52aab",
   "metadata": {},
   "source": [
    "# Spark, MLlib and recommendation system based on last.fm data"
   ]
  },
  {
   "cell_type": "markdown",
   "id": "90d9e216-ebb7-4cee-84fb-fe332bd5f368",
   "metadata": {},
   "source": [
    "# Task 1.\n",
    "### Spark initialization and libraries"
   ]
  },
  {
   "cell_type": "code",
   "execution_count": 1,
   "id": "c9605099-56d9-41ec-9cf4-3a121f30cc6f",
   "metadata": {},
   "outputs": [
    {
     "name": "stdout",
     "output_type": "stream",
     "text": [
      "3.3.0\n"
     ]
    }
   ],
   "source": [
    "import findspark\n",
    "findspark.init()\n",
    "import pyspark\n",
    "from pyspark.sql.types import StructType, StructField, IntegerType\n",
    "from pyspark.sql import SparkSession\n",
    "spark = SparkSession.builder.config(\"spark.port.maxRetries\", \"60\").getOrCreate()\n",
    "\n",
    "print(spark.version)"
   ]
  },
  {
   "cell_type": "markdown",
   "id": "26910833-e37a-4188-8fb9-f2e2da73553b",
   "metadata": {},
   "source": [
    "# Task 2.\n",
    "### Read data from csv files and create DataFrame structures"
   ]
  },
  {
   "cell_type": "code",
   "execution_count": 2,
   "id": "b44a3d70-6d2c-47f0-bbf6-965f02197fc9",
   "metadata": {},
   "outputs": [],
   "source": [
    "from pyspark.sql.types import StructType, StructField, IntegerType, StringType\n",
    "\n",
    "# prepare structure for user artist data\n",
    "struct_uad = StructType([ \\\n",
    "StructField(\"UserId\", IntegerType(), True),\n",
    "StructField(\"ArtistId\", IntegerType(), True),\n",
    "StructField(\"Plays\", IntegerType(), True)])\n",
    "\n",
    "# prepare structure for artist data\n",
    "struct_ad = StructType([ \\\n",
    "StructField(\"AId\", IntegerType(), True),\n",
    "StructField(\"ArtistName\", StringType(), True)])\n",
    "\n",
    "# load data from user_artist_data.txt\n",
    "df_uad = spark.read.format(\"csv\") \\\n",
    ".option(\"header\", \"false\") \\\n",
    ".option(\"delimiter\", \" \") \\\n",
    ".schema(struct_uad) \\\n",
    ".load(\"user_artist_data.txt\")\n",
    "\n",
    "# load data from artist_data.txt\n",
    "df_ad = spark.read.format(\"csv\") \\\n",
    ".option(\"header\", \"false\") \\\n",
    ".option(\"delimiter\", \"\\t\") \\\n",
    ".schema(struct_ad) \\\n",
    ".load(\"artist_data.txt\")"
   ]
  },
  {
   "cell_type": "markdown",
   "id": "d3c6864c-7735-4718-8dab-a66b20ac86bf",
   "metadata": {},
   "source": [
    "# Task 3.\n",
    "### Display the first 10 rows from the df_uad collection by substituting the artist's ArtistName instead of its ArtistId identifier."
   ]
  },
  {
   "cell_type": "code",
   "execution_count": 3,
   "id": "932dd0ae-ea01-419f-ba1a-e4b6c534befb",
   "metadata": {},
   "outputs": [
    {
     "name": "stdout",
     "output_type": "stream",
     "text": [
      "+-------+--------------------+-----+\n",
      "| UserId|          ArtistName|Plays|\n",
      "+-------+--------------------+-----+\n",
      "|1059637|           Aerosmith|  238|\n",
      "|1059637|     Edna's Goldfish|    1|\n",
      "|1059637|The Mighty Mighty...|    1|\n",
      "|1059637|        Foo Fighters|   11|\n",
      "|1059637|  The Bouncing Souls|    1|\n",
      "|1059637|       Alkaline Trio|  423|\n",
      "|1059637|         The Beatles|    5|\n",
      "|1059637|           Pennywise|    2|\n",
      "|1059637|             Incubus|    2|\n",
      "|1059637|         Bright Eyes|19129|\n",
      "+-------+--------------------+-----+\n",
      "only showing top 10 rows\n",
      "\n"
     ]
    }
   ],
   "source": [
    "df_uad.join(df_ad, df_uad.ArtistId == df_ad.AId, \"inner\"). \\\n",
    " select(\"UserId\", \"ArtistName\", \"Plays\").show(10)"
   ]
  },
  {
   "cell_type": "markdown",
   "id": "89acd562-2d9c-403d-8605-a2842bd2d367",
   "metadata": {},
   "source": [
    "# Task 4.\n",
    "### Split the data from the df_uad collection into a training collection and a test collection in a ratio of 0.2 to 0.8. Display the number of elements of each collection."
   ]
  },
  {
   "cell_type": "code",
   "execution_count": 4,
   "id": "cc64fe89-61af-4091-94bc-8208e2d89e61",
   "metadata": {},
   "outputs": [],
   "source": [
    "[df_train, df_test] = df_uad.randomSplit([0.8, 0.2])"
   ]
  },
  {
   "cell_type": "code",
   "execution_count": 5,
   "id": "7e53d160-59f5-40ee-b81e-07ea6134ce3e",
   "metadata": {},
   "outputs": [
    {
     "name": "stdout",
     "output_type": "stream",
     "text": [
      "df_test length: 9924\n",
      "df_train length: 39557\n",
      "df_uad length: 49481\n",
      "df_ad length: 30537\n"
     ]
    }
   ],
   "source": [
    "print(\"df_test length: \" + str(df_test.count()))\n",
    "print(\"df_train length: \" + str(df_train.count()))\n",
    "print(\"df_uad length: \" + str(df_uad.count()))\n",
    "print(\"df_ad length: \" + str(df_ad.count()))"
   ]
  },
  {
   "cell_type": "markdown",
   "id": "99d63c61-1f73-487d-8026-13014f30fa28",
   "metadata": {},
   "source": [
    "# Task 5.\n",
    "### Build a model for the recommender system using the ALS (Alternating Least Squares) algorithm from the MLlib library and the training set."
   ]
  },
  {
   "cell_type": "code",
   "execution_count": 6,
   "id": "91a873b4-b504-495f-b211-8afc7f5623aa",
   "metadata": {},
   "outputs": [],
   "source": [
    "# pip install numpy\n",
    "# restart kernel\n",
    "\n",
    "from pyspark.ml.recommendation import ALS\n",
    "\n",
    "als = ALS( \\\n",
    "seed=327, \\\n",
    "implicitPrefs=True, \\\n",
    "rank = 10, \\\n",
    "maxIter = 5, \\\n",
    "userCol=\"UserId\", \\\n",
    "itemCol=\"ArtistId\", \\\n",
    "ratingCol=\"Plays\", \\\n",
    ")\n",
    "model = als.fit(df_train)"
   ]
  },
  {
   "cell_type": "markdown",
   "id": "9285fe2f-21d7-4478-b0ba-c0f2d12544ea",
   "metadata": {},
   "source": [
    "# Task 6."
   ]
  },
  {
   "cell_type": "markdown",
   "id": "4595ca4d-ab22-48ef-ab67-b0df99661f03",
   "metadata": {},
   "source": [
    "### Run the model on the test collection. Additionally, set up the deletion of rows in the df_predictions collection that will contain null values."
   ]
  },
  {
   "cell_type": "code",
   "execution_count": 7,
   "id": "40fbfbcb-c844-4067-940c-2b77a3048301",
   "metadata": {},
   "outputs": [],
   "source": [
    "model.setColdStartStrategy(\"drop\")\n",
    "df_predictions= model.transform(df_test)"
   ]
  },
  {
   "cell_type": "markdown",
   "id": "df11e128-b963-4e85-9d3c-34407e088d22",
   "metadata": {},
   "source": [
    "# Task 7."
   ]
  },
  {
   "cell_type": "markdown",
   "id": "6d9e8d7a-a72f-4241-8db1-234fd2010092",
   "metadata": {},
   "source": [
    "### Generate the top 10 recommendations found for each user using the recommendForAllUsers method of the ALS model class. Display the recommendations for the first few users and the recommendations for them."
   ]
  },
  {
   "cell_type": "code",
   "execution_count": 8,
   "id": "4ffa4700-7249-48dc-83a0-5bf1101d1ca6",
   "metadata": {},
   "outputs": [
    {
     "name": "stdout",
     "output_type": "stream",
     "text": [
      "+-------+----------------------------------------------------------------------------------------------------------------------------------------------------------------------------------------------------------------+\n",
      "| UserId|                                                                                                                                                                                                 recommendations|\n",
      "+-------+----------------------------------------------------------------------------------------------------------------------------------------------------------------------------------------------------------------+\n",
      "|1001440|[{1004294, 2.4304168}, {1004296, 2.1118195}, {1004226, 2.110514}, {3111, 1.9429672}, {1004278, 1.894382}, {1002704, 1.8668932}, {3656, 1.6239448}, {1000781, 1.6211643}, {1002850, 1.6190549}, {313, 1.5811418}]|\n",
      "|1021940|     [{1000024, 2.2526505}, {1007903, 2.199112}, {234, 2.188242}, {1004278, 1.8247613}, {1001048, 1.7763709}, {1014421, 1.7410071}, {873, 1.7169764}, {1330, 1.6569563}, {831, 1.6150019}, {1000156, 1.6019264}]|\n",
      "|2005710|      [{1026440, 2.275206}, {1330, 2.1395621}, {1000024, 1.9523994}, {5705, 1.7900915}, {1231740, 1.783166}, {1006123, 1.7522669}, {1006160, 1.678707}, {2, 1.5804721}, {1004484, 1.5728161}, {3150, 1.5418944}]|\n",
      "|1058890|[{1003681, 1.7924582}, {1007735, 1.6462091}, {1000201, 1.5216908}, {1000156, 1.3585172}, {1259, 1.3274906}, {860, 1.3139304}, {1001412, 1.2497752}, {83, 1.2496825}, {1233217, 1.2369717}, {1010646, 1.2357309}]|\n",
      "|1017610|    [{1280961, 1.7614549}, {1004301, 1.6855856}, {4465, 1.612329}, {535, 1.592915}, {1001048, 1.5710192}, {1000781, 1.5023469}, {3111, 1.487984}, {1000265, 1.4549891}, {1002551, 1.4441147}, {3418, 1.4159672}]|\n",
      "+-------+----------------------------------------------------------------------------------------------------------------------------------------------------------------------------------------------------------------+\n",
      "only showing top 5 rows\n",
      "\n"
     ]
    }
   ],
   "source": [
    "rec4user10 = model.recommendForAllUsers(10)\n",
    "rec4user10.show(5,250)"
   ]
  },
  {
   "cell_type": "markdown",
   "id": "177a935d-0a1d-4368-bbc8-acb411089b38",
   "metadata": {},
   "source": [
    "# Task 8."
   ]
  },
  {
   "cell_type": "markdown",
   "id": "25306a35-002f-4d05-b90f-8907cc6859ac",
   "metadata": {},
   "source": [
    "### View the top 5 recommendations found for two selected users: 1059637 and 2007381."
   ]
  },
  {
   "cell_type": "code",
   "execution_count": 9,
   "id": "e52a4a18-d111-4af2-b8c7-59c9d91b83d8",
   "metadata": {},
   "outputs": [
    {
     "name": "stdout",
     "output_type": "stream",
     "text": [
      "+-------+----------------------------------------------------------------------------------------------------+\n",
      "| UserId|                                                                                     recommendations|\n",
      "+-------+----------------------------------------------------------------------------------------------------+\n",
      "|2007381|[{1004278, 2.822596}, {4496, 2.3065803}, {1003681, 1.9420762}, {1004296, 1.8899902}, {1, 1.8526235}]|\n",
      "|1059637|    [{1854, 1.7078325}, {1002704, 1.7000285}, {1330, 1.6864382}, {3150, 1.6025684}, {304, 1.553655}]|\n",
      "+-------+----------------------------------------------------------------------------------------------------+\n",
      "\n"
     ]
    }
   ],
   "source": [
    "twoUsers = df_test.select('UserId').where('UserId == 1059637 OR UserId == 2007381')\n",
    "model.recommendForUserSubset(twoUsers, 5).show(5, 250)"
   ]
  },
  {
   "cell_type": "markdown",
   "id": "933997a1-521f-47b2-8b2c-d12be30631de",
   "metadata": {},
   "source": [
    "# Task 9."
   ]
  },
  {
   "cell_type": "markdown",
   "id": "7879ca70-efc3-4052-b1bf-d60444308491",
   "metadata": {},
   "source": [
    "### Display recommendations for one selected user by replacing artist IDs with their names."
   ]
  },
  {
   "cell_type": "code",
   "execution_count": 10,
   "id": "ab48ee3f-a8e7-4dbd-8953-286a9e49019f",
   "metadata": {},
   "outputs": [
    {
     "name": "stdout",
     "output_type": "stream",
     "text": [
      "+-------+--------------------+-------+---------------+\n",
      "| UserId|     recommendations|    AId|     ArtistName|\n",
      "+-------+--------------------+-------+---------------+\n",
      "|1059637|[{1854, 1.7078325...|1002704|         Atreyu|\n",
      "|1059637|[{1854, 1.7078325...|    304|Ennio Morricone|\n",
      "|1059637|[{1854, 1.7078325...|   1330|      Tori Amos|\n",
      "|1059637|[{1854, 1.7078325...|   3150|     The Police|\n",
      "|1059637|[{1854, 1.7078325...|   1854|    Linkin Park|\n",
      "+-------+--------------------+-------+---------------+\n",
      "\n"
     ]
    }
   ],
   "source": [
    "from pyspark.sql.functions import *\n",
    "\n",
    "user = df_train.select('UserId').where('UserId == 1059637')\n",
    "rec_for_user = model.recommendForUserSubset(user, 5)\n",
    "\n",
    "rec_for_user.join(df_ad, expr(\"array_contains(recommendations.ArtistId, AId)\")).show()"
   ]
  },
  {
   "cell_type": "markdown",
   "id": "9c16bbbd-a4e2-401c-a3f7-5d614acc1b0c",
   "metadata": {},
   "source": [
    "# Task 10."
   ]
  },
  {
   "cell_type": "markdown",
   "id": "ce0e8aef-2c58-4454-9492-1e3f2b9a0a0c",
   "metadata": {},
   "source": [
    "###  Check if the recommendations from Task 13 are accurate by displaying a list of artists this user has listened to most often."
   ]
  },
  {
   "cell_type": "code",
   "execution_count": 11,
   "id": "458e7d4d-f69c-4fbe-b112-df3a27a4e37c",
   "metadata": {},
   "outputs": [
    {
     "name": "stdout",
     "output_type": "stream",
     "text": [
      "+-------+--------+-----+\n",
      "| UserId|ArtistId|Plays|\n",
      "+-------+--------+-----+\n",
      "|1042223| 1002287| 2197|\n",
      "|1042223| 1000413| 1204|\n",
      "|1042223| 1011967|  526|\n",
      "|1042223| 1006087|  406|\n",
      "|1042223| 1080742|  359|\n",
      "|1042223| 1022845|  350|\n",
      "|1042223| 1002061|  334|\n",
      "|1042223| 1014769|  309|\n",
      "|1042223| 1000873|  273|\n",
      "|1042223| 1000427|  266|\n",
      "|1042223| 1000062|  246|\n",
      "|1042223| 1001035|  241|\n",
      "|1042223| 1000693|  213|\n",
      "|1042223| 1160349|  213|\n",
      "|1042223| 1002457|  195|\n",
      "|1042223| 1000569|  162|\n",
      "|1042223| 1000458|  161|\n",
      "|1042223| 1004461|  158|\n",
      "|1042223| 1016808|  141|\n",
      "|1042223| 1001277|  140|\n",
      "+-------+--------+-----+\n",
      "only showing top 20 rows\n",
      "\n"
     ]
    }
   ],
   "source": [
    "df_test.where('UserId == 1042223').orderBy(\"Plays\", ascending=False).show()"
   ]
  },
  {
   "cell_type": "markdown",
   "id": "bef63d7a-4bf2-4912-a6d4-752162aabe0e",
   "metadata": {},
   "source": [
    "# Task 11."
   ]
  },
  {
   "cell_type": "markdown",
   "id": "e992f550-cf09-4c31-b985-054b9cf1bcf9",
   "metadata": {},
   "source": [
    "### Show the top 8 suggested user recommendations for each artist."
   ]
  },
  {
   "cell_type": "code",
   "execution_count": 12,
   "id": "07528c1a-7fad-4cd7-a9cb-dc3766967ff4",
   "metadata": {},
   "outputs": [
    {
     "name": "stdout",
     "output_type": "stream",
     "text": [
      "+--------+------------------------------------------------------------------------------------------------------------------------+\n",
      "|ArtistId|                                                                                                         recommendations|\n",
      "+--------+------------------------------------------------------------------------------------------------------------------------+\n",
      "|       1|[{2007381, 1.8526235}, {2000668, 1.7103702}, {1047812, 1.6991439}, {1070932, 1.6399794}, {1059765, 1.571018}, {104222...|\n",
      "|      13|[{1029563, 0.9975569}, {1026084, 0.9834517}, {2023686, 0.95316607}, {1046559, 0.9491897}, {1059765, 0.7754498}, {2069...|\n",
      "|      26|[{2023686, 0.95340776}, {1024631, 0.91846883}, {1026084, 0.80602825}, {2005710, 0.70534116}, {1072684, 0.68763524}, {...|\n",
      "|      27|[{1059334, 0.36629048}, {1059637, 0.30299821}, {1070932, 0.2803811}, {1001440, 0.24842867}, {1072684, 0.2419595}, {10...|\n",
      "|      28|[{1026084, 1.7549269}, {1072684, 1.2410318}, {1042223, 1.1404506}, {1021940, 1.0773939}, {2023686, 1.0317129}, {10295...|\n",
      "|      34|[{1001440, 0.7136921}, {1017610, 0.3780542}, {1000647, 0.3447564}, {2102019, 0.27797776}, {1059245, 0.20957379}, {207...|\n",
      "|      53|[{2007381, 1.5880402}, {1026084, 1.2699707}, {1059765, 1.2344707}, {1042223, 1.214537}, {1047812, 1.1862773}, {100730...|\n",
      "|      76|[{2023686, 1.1820722}, {1000647, 1.014319}, {1046559, 0.9070915}, {2062243, 0.84797066}, {2020513, 0.81794316}, {2010...|\n",
      "+--------+------------------------------------------------------------------------------------------------------------------------+\n",
      "only showing top 8 rows\n",
      "\n"
     ]
    }
   ],
   "source": [
    "model.recommendForAllItems(8).show(8, 120)"
   ]
  },
  {
   "cell_type": "markdown",
   "id": "1250ca21-d5ab-4ffa-86dd-808ab01b01c1",
   "metadata": {},
   "source": [
    "# Task 12."
   ]
  },
  {
   "cell_type": "markdown",
   "id": "145ae652-45fd-4b31-be69-7e64fac25aa7",
   "metadata": {},
   "source": [
    "### Show the top 4 user recommendations found for three selected artists: 1205, 1007027, 1007735."
   ]
  },
  {
   "cell_type": "code",
   "execution_count": 13,
   "id": "bdf2622c-52a0-43e6-9818-9a24bc04857c",
   "metadata": {},
   "outputs": [
    {
     "name": "stdout",
     "output_type": "stream",
     "text": [
      "+--------+----------------------------------------------------------------------------------------+\n",
      "|ArtistId|                                                                         recommendations|\n",
      "+--------+----------------------------------------------------------------------------------------+\n",
      "| 1007735|[{1072684, 2.1886528}, {1059334, 2.1097171}, {1042223, 1.9921455}, {1058890, 1.6462091}]|\n",
      "|    1205| [{1026084, 1.686818}, {1072684, 1.4231238}, {1059245, 1.4082575}, {1042223, 1.2573684}]|\n",
      "| 1007027|[{1072684, 1.5570898}, {1059765, 1.4161333}, {1029563, 1.2807263}, {1042223, 1.1453718}]|\n",
      "+--------+----------------------------------------------------------------------------------------+\n",
      "\n"
     ]
    }
   ],
   "source": [
    "artists = df_train.where('ArtistId == 1205 OR ArtistId == 1007027 OR ArtistId == 1007735')\n",
    "model.recommendForItemSubset(artists, 4).show(10,150)"
   ]
  },
  {
   "cell_type": "markdown",
   "id": "762263cc-a9a2-4685-ba3f-0dd8758873a1",
   "metadata": {},
   "source": [
    "# Task 13."
   ]
  },
  {
   "cell_type": "markdown",
   "id": "06b7db87-8e5d-49a6-a28e-b403d1cea7f6",
   "metadata": {},
   "source": [
    "### Show top 6 user recommendations for five most listened to artists."
   ]
  },
  {
   "cell_type": "code",
   "execution_count": 14,
   "id": "26092e66-33a4-44bc-b1de-98ff641f977b",
   "metadata": {
    "tags": []
   },
   "outputs": [
    {
     "name": "stdout",
     "output_type": "stream",
     "text": [
      "+--------+---------------------------------------------------------------------------------------------------------------------------------------+\n",
      "|ArtistId|                                                                                                                        recommendations|\n",
      "+--------+---------------------------------------------------------------------------------------------------------------------------------------+\n",
      "|    2823|       [{1026084, 1.5712866}, {1059765, 1.170742}, {1029563, 1.1288203}, {2023686, 1.101523}, {2010008, 1.068036}, {2007381, 1.065754}]|\n",
      "| 1000094|    [{2020513, 1.6666232}, {2062243, 1.3838259}, {1072684, 1.3686398}, {1059765, 1.2664607}, {1046559, 1.247421}, {1031009, 1.1613114}]|\n",
      "| 1250104|[{1026084, 0.9157724}, {1052054, 0.8655541}, {1070641, 0.75656307}, {1029563, 0.7108729}, {1024631, 0.68852544}, {1046559, 0.64743644}]|\n",
      "| 1002095|   [{1035511, 1.1575044}, {1029563, 1.1462435}, {2030069, 1.1451075}, {1072684, 1.0785761}, {1059765, 1.0476732}, {1070641, 1.0286623}]|\n",
      "|     979|    [{1035511, 1.9243355}, {2007381, 1.6424904}, {1059245, 1.541722}, {2070757, 1.3927988}, {2030069, 1.2912643}, {1001440, 1.2510351}]|\n",
      "+--------+---------------------------------------------------------------------------------------------------------------------------------------+\n",
      "\n"
     ]
    }
   ],
   "source": [
    "countPlaysByArtist = df_test.groupBy(\"ArtistId\").sum(\"Plays\")\n",
    "topFiveArtists = countPlaysByArtist.select(\"ArtistId\", col(\"sum(Plays)\").alias(\"Plays\")).orderBy(\"sum(Plays)\", ascending=False).limit(5)\n",
    "model.recommendForItemSubset(topFiveArtists, 6).show(10, 150)"
   ]
  },
  {
   "cell_type": "markdown",
   "id": "afa88ebb-6cd6-4d8c-8522-4e08dd026015",
   "metadata": {
    "tags": []
   },
   "source": [
    "# Task 14."
   ]
  },
  {
   "cell_type": "markdown",
   "id": "c6b0efe2-e199-4ea7-94e1-bc24268f4c75",
   "metadata": {},
   "source": [
    "### Show top 6 user recommendations for five most listened to artists."
   ]
  },
  {
   "cell_type": "code",
   "execution_count": 15,
   "id": "6056152f-82ae-469f-8843-f62835192c90",
   "metadata": {},
   "outputs": [
    {
     "name": "stdout",
     "output_type": "stream",
     "text": [
      "+-------+------------------------------------------------------------------------------------------------------------------------------------------------------+\n",
      "| UserId|                                                                                                                                       recommendations|\n",
      "+-------+------------------------------------------------------------------------------------------------------------------------------------------------------+\n",
      "|1001440|[{1004294, 2.4304168}, {1004296, 2.1118195}, {1004226, 2.110514}, {3111, 1.9429672}, {1004278, 1.894382}, {1002704, 1.8668932}, {3656, 1.6239448}, ...|\n",
      "|1024631|[{1000024, 2.419117}, {234, 2.1759033}, {1231740, 1.9924719}, {1001909, 1.917037}, {1006160, 1.815618}, {1026440, 1.7800384}, {1005820, 1.7629379},...|\n",
      "|1035511|[{1004278, 3.708456}, {1004296, 3.0369194}, {1231740, 2.9717412}, {1000445, 2.249554}, {969, 2.11371}, {979, 1.9243355}, {1307, 1.9210337}, {100020...|\n",
      "|1059334|[{1854, 2.5147612}, {1307, 2.5120206}, {1006016, 2.1634219}, {1007735, 2.1097171}, {1005820, 2.0423605}, {4241, 1.9309951}, {1001779, 1.847594}, {1...|\n",
      "|2023686|[{1000263, 2.8067925}, {1169, 2.2781162}, {1002326, 2.2112772}, {4061, 2.0922682}, {1001027, 2.0786815}, {1006123, 2.0447643}, {1000427, 1.9481434}...|\n",
      "|2010008|[{1009156, 2.0651455}, {1002840, 1.9186392}, {1233196, 1.701749}, {1001277, 1.5748029}, {1000522, 1.5641656}, {1001646, 1.4752538}, {1002448, 1.473...|\n",
      "+-------+------------------------------------------------------------------------------------------------------------------------------------------------------+\n",
      "\n"
     ]
    }
   ],
   "source": [
    "countPlaysByUser = df_test.groupBy(\"UserId\").agg(count(\"ArtistId\").alias(\"Plays\")).orderBy(\"Plays\", ascending=False).limit(6)\n",
    "model.recommendForUserSubset(countPlaysByUser, 10).show(10, 150)"
   ]
  },
  {
   "cell_type": "markdown",
   "id": "e4d855fd-487b-4ba2-ba92-86bae130480d",
   "metadata": {},
   "source": [
    "# Close Spark session"
   ]
  },
  {
   "cell_type": "code",
   "execution_count": 16,
   "id": "96950b78-7990-4600-a8fc-790c36c85967",
   "metadata": {},
   "outputs": [],
   "source": [
    "spark.stop()"
   ]
  },
  {
   "cell_type": "code",
   "execution_count": null,
   "id": "7120a8b5-22c5-4224-bec1-7f560c5cff2b",
   "metadata": {},
   "outputs": [],
   "source": []
  }
 ],
 "metadata": {
  "kernelspec": {
   "display_name": "Python 3 (ipykernel)",
   "language": "python",
   "name": "python3"
  },
  "language_info": {
   "codemirror_mode": {
    "name": "ipython",
    "version": 3
   },
   "file_extension": ".py",
   "mimetype": "text/x-python",
   "name": "python",
   "nbconvert_exporter": "python",
   "pygments_lexer": "ipython3",
   "version": "3.10.6"
  }
 },
 "nbformat": 4,
 "nbformat_minor": 5
}
