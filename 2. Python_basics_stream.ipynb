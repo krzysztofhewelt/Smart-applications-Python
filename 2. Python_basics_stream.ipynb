{
 "cells": [
  {
   "cell_type": "markdown",
   "metadata": {},
   "source": [
    "# Python basics - map, filter, reduce"
   ]
  },
  {
   "cell_type": "markdown",
   "metadata": {},
   "source": [
    "# Task 1.\n",
    "### Get numbers divisible by 13 in range <0;100)"
   ]
  },
  {
   "cell_type": "code",
   "execution_count": 3,
   "metadata": {},
   "outputs": [
    {
     "name": "stdout",
     "output_type": "stream",
     "text": [
      "There are 8 numbers divisible by 13 in range <0;100)\n"
     ]
    }
   ],
   "source": [
    "numbers = len(list(filter(lambda el: el%13==0, range(0,100))))\n",
    "print(f\"There are {numbers} numbers divisible by 13 in range <0;100)\")"
   ]
  },
  {
   "cell_type": "markdown",
   "metadata": {},
   "source": [
    "# Task 2.\n",
    "### Estimating the value of Pi using Monte Carlo"
   ]
  },
  {
   "cell_type": "code",
   "execution_count": 6,
   "metadata": {},
   "outputs": [
    {
     "name": "stdout",
     "output_type": "stream",
     "text": [
      "The approximate value of the PI number is : 3.168\n"
     ]
    }
   ],
   "source": [
    "import random\n",
    "def point():\n",
    "    x = random.random()\n",
    "    y = random.random()\n",
    "    return x*x+y*y\n",
    "\n",
    "numberOfPoints = 1000\n",
    "pi = len(list(filter(lambda p: p<1, map(lambda p: point(), range(0,numberOfPoints)))))*4/numberOfPoints\n",
    "print(\"The approximate value of the PI number is : {:.3f}\".format(pi))"
   ]
  },
  {
   "cell_type": "markdown",
   "metadata": {},
   "source": [
    "# Task 3.\n",
    "### Two power calculator"
   ]
  },
  {
   "cell_type": "code",
   "execution_count": 8,
   "metadata": {},
   "outputs": [
    {
     "name": "stdin",
     "output_type": "stream",
     "text": [
      "Give a number:  5\n"
     ]
    },
    {
     "name": "stdout",
     "output_type": "stream",
     "text": [
      "2^5 = 32\n"
     ]
    }
   ],
   "source": [
    "import functools\n",
    "number = int(input('Give a number: '))\n",
    "if number > 0:\n",
    "    result = functools.reduce(lambda a,b: a*b, map(lambda a: 2, range(0,number)))\n",
    "    print(f\"2^{number} = {result}\")\n",
    "else:\n",
    "    print(\"Number must be greater than 0!\")"
   ]
  },
  {
   "cell_type": "markdown",
   "metadata": {},
   "source": [
    "# Task 4.\n",
    "### Generate 5 random number in range <0;100) and show them in ascending order"
   ]
  },
  {
   "cell_type": "code",
   "execution_count": 22,
   "metadata": {},
   "outputs": [
    {
     "name": "stdout",
     "output_type": "stream",
     "text": [
      "[2, 20, 74, 80, 91]\n"
     ]
    }
   ],
   "source": [
    "import random\n",
    "print(sorted(list(map(lambda x: random.randint(0,99), range(5)))))"
   ]
  },
  {
   "cell_type": "markdown",
   "metadata": {},
   "source": [
    "# Task 5.\n",
    "### OOP"
   ]
  },
  {
   "cell_type": "code",
   "execution_count": 27,
   "metadata": {},
   "outputs": [
    {
     "name": "stdout",
     "output_type": "stream",
     "text": [
      "Name: Mariusz. Surname: Tomalski. Age: 33. City: Gdynia\n",
      "[Surname: Śmigalsa, Surname: Tomalski, Surname: Nowak, Surname: Bazowa, Surname: Śmigalsi]\n",
      "[Surname: Nowak, Surname: Bazowa]\n",
      "2\n"
     ]
    }
   ],
   "source": [
    "class Person:\n",
    "    def __init__(self, name, surname, age, city):\n",
    "        self.name = name\n",
    "        self.surname = surname\n",
    "        self.age = age\n",
    "        self.city = city\n",
    "    def __str__(self):\n",
    "        return \"Name: \" + self.name + \". Surname: \" + self.surname + \". Age: \" + str(self.age) + \". City: \" + self.city\n",
    "    def __repr__(self):\n",
    "        return \"Surname: \" + self.surname\n",
    "    \n",
    "people = []\n",
    "people.append(Person(\"Ela\", \"Śmigalsa\", 34, \"Lublin\"))\n",
    "people.append(Person(\"Mariusz\", \"Tomalski\", 33, \"Gdynia\"))\n",
    "people.append(Person(\"Janusz\", \"Nowak\", 6, \"Gdańsk\"))\n",
    "people.append(Person(\"Maria\", \"Bazowa\", 9, \"Warszawa\"))\n",
    "people.append(Person(\"Edek\", \"Śmigalsi\", 33, \"Lublin\"))\n",
    "\n",
    "# details of the selected person\n",
    "print(people[1])\n",
    "\n",
    "# details of all the people\n",
    "print(people)\n",
    "\n",
    "# people younger than 10 years old\n",
    "print(list(filter(lambda a: a.age<10, people)))\n",
    "\n",
    "# number of people younger than 10 years old\n",
    "print(len(list(filter(lambda a: a.age<10, people))))"
   ]
  },
  {
   "cell_type": "code",
   "execution_count": null,
   "metadata": {},
   "outputs": [],
   "source": []
  }
 ],
 "metadata": {
  "kernelspec": {
   "display_name": "Python 3 (ipykernel)",
   "language": "python",
   "name": "python3"
  },
  "language_info": {
   "codemirror_mode": {
    "name": "ipython",
    "version": 3
   },
   "file_extension": ".py",
   "mimetype": "text/x-python",
   "name": "python",
   "nbconvert_exporter": "python",
   "pygments_lexer": "ipython3",
   "version": "3.9.10"
  }
 },
 "nbformat": 4,
 "nbformat_minor": 4
}
