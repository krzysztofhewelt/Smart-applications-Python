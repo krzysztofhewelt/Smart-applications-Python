{
 "cells": [
  {
   "cell_type": "markdown",
   "metadata": {},
   "source": [
    "# Logistic regression on the example of a consulting project"
   ]
  },
  {
   "cell_type": "markdown",
   "metadata": {},
   "source": [
    "Logistic regression is used to predict a binary outcome using binomial logistic regression or to predict a multiclass outcome using polynomial logistic regression. We use the method in situations where we classify in terms of yes or no answers, such as smokers and non-smokers, sick and healthy, exposed and non-exposed.\n",
    "\n",
    "## Client churn - binary option\n",
    "\n",
    "A certain marketing agency has many clients who use their services to create advertisements for client/customer websites. Recently, they have noticed a large churn of the agency's services. Basically, they are randomly assigning client advisors at the moment, but they want a machine learning model to help predict which clients will leave (stop buying their service) so they can correctly assign advisors to the companies most likely to see clients leave.\n",
    "\n",
    "Dane are stored in file **test_customer_churn.csv**. There is its structure:\n",
    "\n",
    "    Names: Name and surname of the customer\n",
    "    Age: Age of the customer\n",
    "    Total_Purchase: Total money spent on our services\n",
    "    Account_Manager: 0- no Customer Advisor assigned, 1-Customer Advisor assigned\n",
    "    Years: How long has he been our customer\n",
    "    Num_sites: Number of websites that uses our services\n",
    "    Onboard_date: Last contract date\n",
    "    Location: Client address\n",
    "    Company: Company name\n",
    "    Churn (only in test set): 1 lub 0 (churn or not) "
   ]
  },
  {
   "cell_type": "markdown",
   "metadata": {},
   "source": [
    "### Initialize Spark"
   ]
  },
  {
   "cell_type": "code",
   "execution_count": 1,
   "metadata": {},
   "outputs": [
    {
     "name": "stdout",
     "output_type": "stream",
     "text": [
      "3.3.0\n"
     ]
    }
   ],
   "source": [
    "import findspark\n",
    "findspark.init()\n",
    "import pyspark\n",
    "from pyspark.sql.types import StructType, StructField, IntegerType\n",
    "from pyspark.sql import SparkSession\n",
    "\n",
    "spark = SparkSession.builder.config(\"spark.port.maxRetries\", \"60\").getOrCreate()\n",
    "print(spark.version)"
   ]
  },
  {
   "cell_type": "markdown",
   "metadata": {},
   "source": [
    "### Read data from test_customer_churn.csv"
   ]
  },
  {
   "cell_type": "code",
   "execution_count": 2,
   "metadata": {},
   "outputs": [],
   "source": [
    "data = spark.read.csv('test_customer_churn.csv',inferSchema=True,header=True)"
   ]
  },
  {
   "cell_type": "markdown",
   "metadata": {},
   "source": [
    "### Show the dataset schema"
   ]
  },
  {
   "cell_type": "code",
   "execution_count": 3,
   "metadata": {
    "collapsed": false,
    "jupyter": {
     "outputs_hidden": false
    }
   },
   "outputs": [
    {
     "name": "stdout",
     "output_type": "stream",
     "text": [
      "root\n",
      " |-- Names: string (nullable = true)\n",
      " |-- Age: double (nullable = true)\n",
      " |-- Total_Purchase: double (nullable = true)\n",
      " |-- Account_Manager: integer (nullable = true)\n",
      " |-- Years: double (nullable = true)\n",
      " |-- Num_Sites: double (nullable = true)\n",
      " |-- Onboard_date: timestamp (nullable = true)\n",
      " |-- Location: string (nullable = true)\n",
      " |-- Company: string (nullable = true)\n",
      " |-- Churn: integer (nullable = true)\n",
      "\n"
     ]
    }
   ],
   "source": [
    "data.printSchema()"
   ]
  },
  {
   "cell_type": "markdown",
   "metadata": {},
   "source": [
    "### Overview of the loaded data"
   ]
  },
  {
   "cell_type": "code",
   "execution_count": 4,
   "metadata": {
    "collapsed": false,
    "jupyter": {
     "outputs_hidden": false
    }
   },
   "outputs": [
    {
     "name": "stdout",
     "output_type": "stream",
     "text": [
      "+-------+-------------+-----------------+-----------------+------------------+-----------------+------------------+--------------------+--------------------+-------------------+\n",
      "|summary|        Names|              Age|   Total_Purchase|   Account_Manager|            Years|         Num_Sites|            Location|             Company|              Churn|\n",
      "+-------+-------------+-----------------+-----------------+------------------+-----------------+------------------+--------------------+--------------------+-------------------+\n",
      "|  count|          900|              900|              900|               900|              900|               900|                 900|                 900|                900|\n",
      "|   mean|         null|41.81666666666667|10062.82403333334|0.4811111111111111| 5.27315555555555| 8.587777777777777|                null|                null|0.16666666666666666|\n",
      "| stddev|         null|6.127560416916251|2408.644531858096|0.4999208935073339|1.274449013194616|1.7648355920350969|                null|                null| 0.3728852122772358|\n",
      "|    min|   Aaron King|             22.0|            100.0|                 0|              1.0|               3.0|00103 Jeffrey Cre...|     Abbott-Thompson|                  0|\n",
      "|    max|Zachary Walsh|             65.0|         18026.01|                 1|             9.15|              14.0|Unit 9800 Box 287...|Zuniga, Clark and...|                  1|\n",
      "+-------+-------------+-----------------+-----------------+------------------+-----------------+------------------+--------------------+--------------------+-------------------+\n",
      "\n"
     ]
    }
   ],
   "source": [
    "data.describe().show()"
   ]
  },
  {
   "cell_type": "code",
   "execution_count": 5,
   "metadata": {
    "collapsed": false,
    "jupyter": {
     "outputs_hidden": false
    }
   },
   "outputs": [
    {
     "data": {
      "text/plain": [
       "['Names',\n",
       " 'Age',\n",
       " 'Total_Purchase',\n",
       " 'Account_Manager',\n",
       " 'Years',\n",
       " 'Num_Sites',\n",
       " 'Onboard_date',\n",
       " 'Location',\n",
       " 'Company',\n",
       " 'Churn']"
      ]
     },
     "execution_count": 5,
     "metadata": {},
     "output_type": "execute_result"
    }
   ],
   "source": [
    "data.columns"
   ]
  },
  {
   "cell_type": "markdown",
   "metadata": {},
   "source": [
    "### Data processing - get only fields needed for calculations"
   ]
  },
  {
   "cell_type": "markdown",
   "metadata": {},
   "source": [
    "The factors that will determine the outcome are:\n",
    "- age of the customer\n",
    "- the total amount paid for our service\n",
    "- the assigned advisor; how long they have been our client\n",
    "- the number of websites where they use our service"
   ]
  },
  {
   "cell_type": "code",
   "execution_count": 6,
   "metadata": {},
   "outputs": [],
   "source": [
    "from pyspark.ml.feature import VectorAssembler"
   ]
  },
  {
   "cell_type": "code",
   "execution_count": 7,
   "metadata": {},
   "outputs": [],
   "source": [
    "assembler = VectorAssembler(inputCols=[\n",
    " 'Age',\n",
    " 'Total_Purchase',\n",
    " 'Account_Manager',\n",
    " 'Years',\n",
    " 'Num_Sites'],outputCol='features')"
   ]
  },
  {
   "cell_type": "code",
   "execution_count": 8,
   "metadata": {},
   "outputs": [],
   "source": [
    "output = assembler.transform(data)"
   ]
  },
  {
   "cell_type": "code",
   "execution_count": 9,
   "metadata": {},
   "outputs": [],
   "source": [
    "final_data = output.select('features','churn')"
   ]
  },
  {
   "cell_type": "markdown",
   "metadata": {},
   "source": [
    "### Splitting the dataset into train (70%) and test (30%) datasets"
   ]
  },
  {
   "cell_type": "code",
   "execution_count": 10,
   "metadata": {},
   "outputs": [],
   "source": [
    "train_churn,test_churn = final_data.randomSplit([0.7,0.3])"
   ]
  },
  {
   "cell_type": "markdown",
   "metadata": {},
   "source": [
    "### Model fit using logistic regression algorithm"
   ]
  },
  {
   "cell_type": "code",
   "execution_count": 11,
   "metadata": {},
   "outputs": [],
   "source": [
    "from pyspark.ml.classification import LogisticRegression"
   ]
  },
  {
   "cell_type": "code",
   "execution_count": 12,
   "metadata": {},
   "outputs": [],
   "source": [
    "lr_churn = LogisticRegression(labelCol='churn')"
   ]
  },
  {
   "cell_type": "code",
   "execution_count": 13,
   "metadata": {},
   "outputs": [],
   "source": [
    "fitted_churn_model = lr_churn.fit(train_churn)"
   ]
  },
  {
   "cell_type": "code",
   "execution_count": 14,
   "metadata": {},
   "outputs": [],
   "source": [
    "training_sum = fitted_churn_model.summary"
   ]
  },
  {
   "cell_type": "code",
   "execution_count": 15,
   "metadata": {
    "collapsed": false,
    "jupyter": {
     "outputs_hidden": false
    }
   },
   "outputs": [
    {
     "name": "stdout",
     "output_type": "stream",
     "text": [
      "+-------+-------------------+-------------------+\n",
      "|summary|              churn|         prediction|\n",
      "+-------+-------------------+-------------------+\n",
      "|  count|                625|                625|\n",
      "|   mean|             0.1664|              0.128|\n",
      "| stddev|0.37273761995984966|0.33435740128621594|\n",
      "|    min|                0.0|                0.0|\n",
      "|    max|                1.0|                1.0|\n",
      "+-------+-------------------+-------------------+\n",
      "\n"
     ]
    }
   ],
   "source": [
    "training_sum.predictions.describe().show()"
   ]
  },
  {
   "cell_type": "markdown",
   "metadata": {},
   "source": [
    "### Calculation of results on a test set - we predict whether the customer will churn or not"
   ]
  },
  {
   "cell_type": "code",
   "execution_count": 16,
   "metadata": {},
   "outputs": [],
   "source": [
    "from pyspark.ml.evaluation import BinaryClassificationEvaluator"
   ]
  },
  {
   "cell_type": "code",
   "execution_count": 17,
   "metadata": {},
   "outputs": [],
   "source": [
    "pred_and_labels = fitted_churn_model.evaluate(test_churn)"
   ]
  },
  {
   "cell_type": "code",
   "execution_count": 18,
   "metadata": {
    "collapsed": false,
    "jupyter": {
     "outputs_hidden": false
    }
   },
   "outputs": [
    {
     "name": "stdout",
     "output_type": "stream",
     "text": [
      "+--------------------+-----+--------------------+--------------------+----------+\n",
      "|            features|churn|       rawPrediction|         probability|prediction|\n",
      "+--------------------+-----+--------------------+--------------------+----------+\n",
      "|[22.0,11254.38,1....|    0|[4.47648927766323...|[0.98875462515543...|       0.0|\n",
      "|[27.0,8628.8,1.0,...|    0|[5.40274206821269...|[0.99551598383050...|       0.0|\n",
      "|[28.0,11245.38,0....|    0|[3.74208778845215...|[0.97684433359088...|       0.0|\n",
      "|[29.0,10203.18,1....|    0|[3.61018961253980...|[0.97366554265775...|       0.0|\n",
      "|[29.0,11274.46,1....|    0|[4.49634473643090...|[0.98897326735655...|       0.0|\n",
      "|[29.0,13255.05,1....|    0|[4.09856610865091...|[0.98367448974746...|       0.0|\n",
      "|[30.0,6744.87,0.0...|    0|[3.63268262463781...|[0.97423618120374...|       0.0|\n",
      "|[30.0,7960.64,1.0...|    1|[3.19230113426170...|[0.96054352514310...|       0.0|\n",
      "|[31.0,8688.21,0.0...|    0|[7.09973445468506...|[0.99917535654297...|       0.0|\n",
      "|[31.0,10058.87,1....|    0|[4.31376444833521...|[0.98679366659183...|       0.0|\n",
      "|[31.0,10182.6,1.0...|    0|[4.89291487041988...|[0.99255629387570...|       0.0|\n",
      "|[32.0,5756.12,0.0...|    0|[4.34717348899877...|[0.98722204406346...|       0.0|\n",
      "|[32.0,6367.22,1.0...|    0|[3.08714676414298...|[0.95635943714686...|       0.0|\n",
      "|[32.0,8575.71,0.0...|    0|[4.04627800857110...|[0.98281320987008...|       0.0|\n",
      "|[32.0,10716.75,0....|    0|[4.64931204039860...|[0.99052250025465...|       0.0|\n",
      "|[32.0,12254.75,1....|    0|[2.43382031149345...|[0.91937018141721...|       0.0|\n",
      "|[33.0,7720.61,1.0...|    0|[1.54725465162728...|[0.82451686448461...|       0.0|\n",
      "|[33.0,12115.91,1....|    0|[2.27115499372159...|[0.90645976619535...|       0.0|\n",
      "|[33.0,13157.08,1....|    0|[1.25687945219486...|[0.77848845514739...|       0.0|\n",
      "|[33.0,13314.19,0....|    0|[2.98656779675554...|[0.95196360250782...|       0.0|\n",
      "|[34.0,6131.92,0.0...|    0|[4.12030961114409...|[0.98402002090484...|       0.0|\n",
      "|[34.0,6461.86,1.0...|    0|[4.35120888308159...|[0.98727284930878...|       0.0|\n",
      "|[34.0,9265.59,0.0...|    0|[4.18162059471282...|[0.98495604245551...|       0.0|\n",
      "|[34.0,9401.99,1.0...|    0|[0.49666262419529...|[0.62167471556022...|       0.0|\n",
      "|[34.0,9779.12,0.0...|    0|[2.80119149407154...|[0.94274017624463...|       0.0|\n",
      "|[34.0,9845.35,0.0...|    0|[6.07088953678890...|[0.99769620149205...|       0.0|\n",
      "|[34.0,10466.56,0....|    0|[5.693635057044,-...|[0.99664397060185...|       0.0|\n",
      "|[34.0,10674.92,1....|    0|[3.90730014725621...|[0.98030116130231...|       0.0|\n",
      "|[34.0,12760.01,0....|    0|[5.30204629100302...|[0.99504330115379...|       0.0|\n",
      "|[34.0,12813.91,0....|    0|[7.55758170922844...|[0.99947813608816...|       0.0|\n",
      "|[35.0,3825.7,0.0,...|    0|[5.37849806661898...|[0.99540645030189...|       0.0|\n",
      "|[35.0,7814.68,1.0...|    0|[2.03855428262156...|[0.88478597384421...|       0.0|\n",
      "|[35.0,8058.73,0.0...|    0|[2.16498099282574...|[0.89706041901613...|       0.0|\n",
      "|[35.0,8297.87,0.0...|    0|[4.41222515258703...|[0.98801716844056...|       0.0|\n",
      "|[35.0,8475.8,0.0,...|    0|[1.95149346774195...|[0.87560939797460...|       0.0|\n",
      "|[35.0,9435.2,1.0,...|    0|[4.35833932434933...|[0.98736213392277...|       0.0|\n",
      "|[35.0,10166.67,0....|    0|[2.29242931116651...|[0.90824809393078...|       0.0|\n",
      "|[35.0,11391.46,1....|    0|[-0.4735712584788...|[0.38377132368199...|       1.0|\n",
      "|[35.0,12403.81,0....|    1|[1.07005853594516...|[0.74460804758627...|       0.0|\n",
      "|[35.0,12871.79,0....|    1|[-0.3755335753409...|[0.40720459444662...|       1.0|\n",
      "|[35.0,13480.91,1....|    0|[5.40032808363565...|[0.99550519512130...|       0.0|\n",
      "|[35.0,13680.25,1....|    0|[1.91041764323697...|[0.87106606062633...|       0.0|\n",
      "|[35.0,15571.26,0....|    0|[2.11769132852314...|[0.89261082830416...|       0.0|\n",
      "|[36.0,4690.57,1.0...|    0|[3.79704359913073...|[0.97805536523137...|       0.0|\n",
      "|[36.0,6330.43,1.0...|    1|[4.98700540790792...|[0.99322020416940...|       0.0|\n",
      "|[36.0,6930.95,0.0...|    0|[5.85685711289507...|[0.99714793860358...|       0.0|\n",
      "|[36.0,9593.71,0.0...|    0|[7.82761661963301...|[0.99960158449487...|       0.0|\n",
      "|[36.0,10339.05,1....|    0|[3.83315517701606...|[0.97881719595039...|       0.0|\n",
      "|[36.0,10448.09,0....|    0|[5.13496912411049...|[0.99414722338527...|       0.0|\n",
      "|[36.0,11040.16,0....|    0|[4.84638128796852...|[0.99220448992063...|       0.0|\n",
      "|[36.0,11047.43,0....|    0|[3.86490948918592...|[0.97946567845866...|       0.0|\n",
      "|[36.0,11274.98,0....|    0|[2.55107496134013...|[0.92764569831320...|       0.0|\n",
      "|[36.0,11550.29,0....|    1|[-2.8641747796110...|[0.05395321304390...|       1.0|\n",
      "|[36.0,12192.94,1....|    0|[1.47882037242112...|[0.81439433881003...|       0.0|\n",
      "|[36.0,12284.58,1....|    0|[1.98545234838497...|[0.87926118658025...|       0.0|\n",
      "|[36.0,12309.23,1....|    0|[2.61604602080380...|[0.93188716178029...|       0.0|\n",
      "|[36.0,14003.88,1....|    0|[7.19046099512360...|[0.99924682612925...|       0.0|\n",
      "|[37.0,6362.93,1.0...|    0|[4.01696947411099...|[0.98231107806623...|       0.0|\n",
      "|[37.0,7189.31,0.0...|    0|[0.83798150024698...|[0.69803992639719...|       0.0|\n",
      "|[37.0,8198.06,1.0...|    1|[-1.2664260968904...|[0.21986965916995...|       1.0|\n",
      "|[37.0,9191.58,0.0...|    1|[2.90550604810919...|[0.94811795032926...|       0.0|\n",
      "|[37.0,9499.3,1.0,...|    0|[2.59306523233578...|[0.93041393406715...|       0.0|\n",
      "|[37.0,10076.71,0....|    0|[4.78779415698051...|[0.99173801545712...|       0.0|\n",
      "|[37.0,10989.43,0....|    0|[0.83589437096908...|[0.69759981914461...|       0.0|\n",
      "|[37.0,11111.59,1....|    0|[4.34203606826411...|[0.98715707466630...|       0.0|\n",
      "|[37.0,11294.26,0....|    0|[1.94452051198137...|[0.87484792922331...|       0.0|\n",
      "|[37.0,11430.75,0....|    0|[1.23951247817297...|[0.77547914263840...|       0.0|\n",
      "|[37.0,11523.63,1....|    0|[5.96331745989584...|[0.99743522757369...|       0.0|\n",
      "|[37.0,14595.51,1....|    0|[-0.7396311832166...|[0.32308479910150...|       1.0|\n",
      "|[38.0,100.0,0.0,5...|    0|[8.56661605740179...|[0.99980968051444...|       0.0|\n",
      "|[38.0,6574.25,0.0...|    0|[2.55808886446173...|[0.92811505583016...|       0.0|\n",
      "|[38.0,7320.49,0.0...|    0|[4.33916910751414...|[0.98712067657122...|       0.0|\n",
      "|[38.0,7713.12,1.0...|    0|[2.28912111207944...|[0.90797203756209...|       0.0|\n",
      "|[38.0,9087.9,0.0,...|    0|[3.50740038710340...|[0.97089760078174...|       0.0|\n",
      "|[38.0,9624.18,0.0...|    1|[-0.9720175510973...|[0.27447854418244...|       1.0|\n",
      "|[38.0,10298.29,1....|    0|[2.40189622148859...|[0.91697178563237...|       0.0|\n",
      "|[38.0,10522.6,1.0...|    0|[0.85296759538185...|[0.70118929256823...|       0.0|\n",
      "|[38.0,11227.39,1....|    0|[1.93021855524838...|[0.87327360866392...|       0.0|\n",
      "|[38.0,12884.75,0....|    1|[-1.8840597981290...|[0.13192325231218...|       1.0|\n",
      "|[38.0,12893.47,1....|    0|[6.97629217468492...|[0.99906711208472...|       0.0|\n",
      "|[38.0,12978.81,0....|    0|[3.64227496185199...|[0.97447585716237...|       0.0|\n",
      "|[38.0,13019.89,1....|    0|[2.49509163314136...|[0.92379700806757...|       0.0|\n",
      "|[39.0,3676.68,1.0...|    0|[3.69198802993738...|[0.97568361651825...|       0.0|\n",
      "|[39.0,5914.3,1.0,...|    0|[4.41169523031108...|[0.98801089293904...|       0.0|\n",
      "|[39.0,6127.84,0.0...|    0|[3.84730893183641...|[0.97910868093952...|       0.0|\n",
      "|[39.0,9303.36,0.0...|    0|[2.44853307700294...|[0.92045411137233...|       0.0|\n",
      "|[39.0,9353.38,0.0...|    0|[6.36406123765128...|[0.99828060382988...|       0.0|\n",
      "|[39.0,9528.99,0.0...|    0|[3.79584491979769...|[0.97802962314758...|       0.0|\n",
      "|[39.0,10110.4,1.0...|    1|[-3.2219494666386...|[0.03834802939149...|       1.0|\n",
      "|[39.0,10413.93,0....|    0|[1.41771086132165...|[0.80497930083131...|       0.0|\n",
      "|[39.0,10510.95,0....|    0|[4.55834732238057...|[0.98962931453458...|       0.0|\n",
      "|[39.0,12019.93,0....|    0|[1.86996834029836...|[0.86645461413305...|       0.0|\n",
      "|[39.0,13029.61,1....|    0|[3.66981299719013...|[0.97515192506231...|       0.0|\n",
      "|[39.0,13532.85,1....|    0|[1.83287217785049...|[0.86210352954853...|       0.0|\n",
      "|[39.0,13731.45,1....|    0|[-1.1463041908179...|[0.24116478499013...|       1.0|\n",
      "|[39.0,14317.2,0.0...|    0|[5.49002536600454...|[0.99588922872417...|       0.0|\n",
      "|[39.0,14425.74,0....|    0|[6.17059281526535...|[0.99791436232447...|       0.0|\n",
      "|[39.0,18026.01,1....|    0|[2.84811309708466...|[0.94522106437739...|       0.0|\n",
      "|[40.0,5218.49,0.0...|    0|[2.84554057963741...|[0.94508771138381...|       0.0|\n",
      "|[40.0,6402.3,0.0,...|    0|[6.30038978479618...|[0.99816777406123...|       0.0|\n",
      "+--------------------+-----+--------------------+--------------------+----------+\n",
      "only showing top 100 rows\n",
      "\n"
     ]
    }
   ],
   "source": [
    "pred_and_labels.predictions.show(100)"
   ]
  },
  {
   "cell_type": "markdown",
   "metadata": {},
   "source": [
    "What does the above table show?\n",
    "Based on the fragment of calculated data, if rawPrediction is less than probability then prediction is 1 (customer churned).\n",
    "Prediction is not always true, i.e. churn (customer abandoned) is different from prediction. The algorithm predicts that fewer customers have left than represented by the actual data."
   ]
  },
  {
   "cell_type": "code",
   "execution_count": 19,
   "metadata": {},
   "outputs": [
    {
     "name": "stdout",
     "output_type": "stream",
     "text": [
      "+-------+-------------------+-------------------+\n",
      "|summary|              churn|         prediction|\n",
      "+-------+-------------------+-------------------+\n",
      "|  count|                275|                275|\n",
      "|   mean|0.16727272727272727|0.14545454545454545|\n",
      "| stddev| 0.3738996242282269|0.35320130414186124|\n",
      "|    min|                  0|                0.0|\n",
      "|    max|                  1|                1.0|\n",
      "+-------+-------------------+-------------------+\n",
      "\n"
     ]
    }
   ],
   "source": [
    "pred_and_labels.predictions.describe().show()"
   ]
  },
  {
   "cell_type": "markdown",
   "metadata": {},
   "source": [
    "Based on the statistics of the prediction results, it appears (looking at the average) that they are quite different from the true answer, this can be seen, for example, by the average between prediction and churn (the average of prediction is smaller than churn).\n",
    "\n",
    "It may follow that in many cases, the algorithm believes that a given customer has not left, when in fact it has."
   ]
  },
  {
   "cell_type": "markdown",
   "metadata": {},
   "source": [
    "### Using the AUC we evaluate the performance of the algorithm"
   ]
  },
  {
   "cell_type": "markdown",
   "metadata": {},
   "source": [
    "**AUC** is used primarily in binary classifications. It shows the pattern of matches between each generated (predicted) variable and its predicted variable for the predicted qualitative variables (flag, nominal or ordinal variable). In the displayed table, rows are defined by actual values and columns by predicted values, and the number of records corresponds to the number of records in which this pattern is found in each cell. This is a useful feature for identifying semantic errors in prediction.\n",
    "\n",
    "**Higher score is better.**"
   ]
  },
  {
   "cell_type": "code",
   "execution_count": 20,
   "metadata": {},
   "outputs": [],
   "source": [
    "churn_eval = BinaryClassificationEvaluator(rawPredictionCol='prediction',\n",
    "                                           labelCol='churn')"
   ]
  },
  {
   "cell_type": "code",
   "execution_count": 21,
   "metadata": {
    "collapsed": false,
    "jupyter": {
     "outputs_hidden": false
    }
   },
   "outputs": [],
   "source": [
    "auc = churn_eval.evaluate(pred_and_labels.predictions)"
   ]
  },
  {
   "cell_type": "code",
   "execution_count": 22,
   "metadata": {
    "collapsed": false,
    "jupyter": {
     "outputs_hidden": false
    }
   },
   "outputs": [
    {
     "data": {
      "text/plain": [
       "0.7911999240554396"
      ]
     },
     "execution_count": 22,
     "metadata": {},
     "output_type": "execute_result"
    }
   ],
   "source": [
    "auc"
   ]
  },
  {
   "cell_type": "markdown",
   "metadata": {},
   "source": [
    "Based on the classification levels of the result, we can conclude that the result received more than 83% falls within the \"sufficient (fair)\" range.\n",
    "\n",
    "Source: https://www.ncbi.nlm.nih.gov/pmc/articles/PMC2935260/#S9"
   ]
  },
  {
   "cell_type": "markdown",
   "metadata": {},
   "source": [
    "# Execution of the same algorithm on other input data..\n",
    "Now, the algorithm must predict on its own whether a given customer will abandon our services or not.\n",
    "\n",
    "Data file: **new_customers.csv**"
   ]
  },
  {
   "cell_type": "code",
   "execution_count": 23,
   "metadata": {},
   "outputs": [],
   "source": [
    "final_lr_model = lr_churn.fit(final_data)"
   ]
  },
  {
   "cell_type": "code",
   "execution_count": 24,
   "metadata": {},
   "outputs": [],
   "source": [
    "new_customers = spark.read.csv('new_customers.csv',inferSchema=True,header=True)"
   ]
  },
  {
   "cell_type": "code",
   "execution_count": 25,
   "metadata": {
    "collapsed": false,
    "jupyter": {
     "outputs_hidden": false
    }
   },
   "outputs": [
    {
     "name": "stdout",
     "output_type": "stream",
     "text": [
      "root\n",
      " |-- Names: string (nullable = true)\n",
      " |-- Age: integer (nullable = true)\n",
      " |-- Total_Purchase: double (nullable = true)\n",
      " |-- Account_Manager: integer (nullable = true)\n",
      " |-- Years: double (nullable = true)\n",
      " |-- Num_Sites: integer (nullable = true)\n",
      " |-- Onboard_date: string (nullable = true)\n",
      " |-- Location: string (nullable = true)\n",
      " |-- Company: string (nullable = true)\n",
      "\n"
     ]
    }
   ],
   "source": [
    "new_customers.printSchema()"
   ]
  },
  {
   "cell_type": "code",
   "execution_count": 26,
   "metadata": {},
   "outputs": [],
   "source": [
    "test_new_customers = assembler.transform(new_customers)"
   ]
  },
  {
   "cell_type": "code",
   "execution_count": 27,
   "metadata": {
    "collapsed": false,
    "jupyter": {
     "outputs_hidden": false
    }
   },
   "outputs": [
    {
     "name": "stdout",
     "output_type": "stream",
     "text": [
      "root\n",
      " |-- Names: string (nullable = true)\n",
      " |-- Age: integer (nullable = true)\n",
      " |-- Total_Purchase: double (nullable = true)\n",
      " |-- Account_Manager: integer (nullable = true)\n",
      " |-- Years: double (nullable = true)\n",
      " |-- Num_Sites: integer (nullable = true)\n",
      " |-- Onboard_date: string (nullable = true)\n",
      " |-- Location: string (nullable = true)\n",
      " |-- Company: string (nullable = true)\n",
      " |-- features: vector (nullable = true)\n",
      "\n"
     ]
    }
   ],
   "source": [
    "test_new_customers.printSchema()"
   ]
  },
  {
   "cell_type": "code",
   "execution_count": 28,
   "metadata": {},
   "outputs": [],
   "source": [
    "final_results = final_lr_model.transform(test_new_customers)"
   ]
  },
  {
   "cell_type": "code",
   "execution_count": 29,
   "metadata": {
    "collapsed": false,
    "jupyter": {
     "outputs_hidden": false
    }
   },
   "outputs": [
    {
     "name": "stdout",
     "output_type": "stream",
     "text": [
      "+-------------+----------+\n",
      "|      Company|prediction|\n",
      "+-------------+----------+\n",
      "|     Orviston|       1.0|\n",
      "|     Westboro|       1.0|\n",
      "|        Onton|       1.0|\n",
      "|   Tecolotito|       1.0|\n",
      "|      Hickory|       1.0|\n",
      "|      Zortman|       1.0|\n",
      "|       Harmon|       1.0|\n",
      "|       Chapin|       1.0|\n",
      "|       Colton|       1.0|\n",
      "|        Nicut|       1.0|\n",
      "|   Brambleton|       1.0|\n",
      "|   Stagecoach|       1.0|\n",
      "|        Yonah|       1.0|\n",
      "|     Monument|       1.0|\n",
      "|     Woodruff|       1.0|\n",
      "|  Interlochen|       1.0|\n",
      "|     Cazadero|       1.0|\n",
      "|      Hilltop|       1.0|\n",
      "| Bartonsville|       1.0|\n",
      "|      Advance|       1.0|\n",
      "+-------------+----------+\n",
      "only showing top 20 rows\n",
      "\n"
     ]
    }
   ],
   "source": [
    "final_results.select('Company','prediction').orderBy(\"prediction\", ascending=False).show()"
   ]
  },
  {
   "cell_type": "markdown",
   "metadata": {},
   "source": [
    "From the above, it follows that we should assign advisors to companies: Orviston, Westboro, Onton, ...."
   ]
  },
  {
   "cell_type": "code",
   "execution_count": 30,
   "metadata": {},
   "outputs": [
    {
     "name": "stdout",
     "output_type": "stream",
     "text": [
      "+-------+----------+\n",
      "|summary|prediction|\n",
      "+-------+----------+\n",
      "|  count|      8686|\n",
      "|   mean|       0.0|\n",
      "| stddev|       0.0|\n",
      "|    min|       0.0|\n",
      "|    max|       0.0|\n",
      "+-------+----------+\n",
      "\n"
     ]
    }
   ],
   "source": [
    "final_results.select(\"prediction\").where(\"prediction=0\").describe().show()"
   ]
  },
  {
   "cell_type": "code",
   "execution_count": 31,
   "metadata": {},
   "outputs": [
    {
     "name": "stdout",
     "output_type": "stream",
     "text": [
      "+-------+----------+\n",
      "|summary|prediction|\n",
      "+-------+----------+\n",
      "|  count|      1314|\n",
      "|   mean|       1.0|\n",
      "| stddev|       0.0|\n",
      "|    min|       1.0|\n",
      "|    max|       1.0|\n",
      "+-------+----------+\n",
      "\n"
     ]
    }
   ],
   "source": [
    "final_results.select(\"prediction\").where(\"prediction=1\").describe().show()"
   ]
  },
  {
   "cell_type": "markdown",
   "metadata": {},
   "source": [
    "From the tables above, the algorithm predicts that advisors should be assigned to 1314 customers."
   ]
  },
  {
   "cell_type": "markdown",
   "metadata": {},
   "source": [
    "# Close Spark session"
   ]
  },
  {
   "cell_type": "code",
   "execution_count": 32,
   "metadata": {},
   "outputs": [],
   "source": [
    "spark.stop()"
   ]
  },
  {
   "cell_type": "code",
   "execution_count": null,
   "metadata": {},
   "outputs": [],
   "source": []
  }
 ],
 "metadata": {
  "anaconda-cloud": {},
  "kernelspec": {
   "display_name": "Python 3 (ipykernel)",
   "language": "python",
   "name": "python3"
  },
  "language_info": {
   "codemirror_mode": {
    "name": "ipython",
    "version": 3
   },
   "file_extension": ".py",
   "mimetype": "text/x-python",
   "name": "python",
   "nbconvert_exporter": "python",
   "pygments_lexer": "ipython3",
   "version": "3.10.6"
  }
 },
 "nbformat": 4,
 "nbformat_minor": 4
}
