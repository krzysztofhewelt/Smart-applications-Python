{
 "cells": [
  {
   "cell_type": "markdown",
   "id": "97efe43a-abdb-4746-8b4c-6f363775caa8",
   "metadata": {},
   "source": [
    "# Python basics"
   ]
  },
  {
   "cell_type": "markdown",
   "id": "205ea2aa-3bd3-43ca-a19b-1c9121e9566b",
   "metadata": {},
   "source": [
    "# Task 1.\n",
    "### Hello Python"
   ]
  },
  {
   "cell_type": "code",
   "execution_count": 1,
   "id": "9af4d69f-791b-4c66-bdef-cb2086ad3dcc",
   "metadata": {},
   "outputs": [
    {
     "name": "stdout",
     "output_type": "stream",
     "text": [
      "10\n",
      "Hello Python\n"
     ]
    }
   ],
   "source": [
    "x=10\n",
    "s=\"Hello Python\"\n",
    "print(x)\n",
    "print(s)"
   ]
  },
  {
   "cell_type": "markdown",
   "id": "6b1a1c0e-9016-49e2-8406-46c747d5da4c",
   "metadata": {},
   "source": [
    "# Task 2.\n",
    "### Calculate root sum squares"
   ]
  },
  {
   "cell_type": "code",
   "execution_count": 2,
   "id": "294908d9-8c36-4b94-b69b-992f951e908e",
   "metadata": {},
   "outputs": [],
   "source": [
    "import math\n",
    "def psk(x, y):\n",
    "    return math.sqrt(x*x+y*y)"
   ]
  },
  {
   "cell_type": "code",
   "execution_count": 3,
   "id": "573c5b20-44fb-4e5c-a9ef-d80308198527",
   "metadata": {},
   "outputs": [
    {
     "name": "stdout",
     "output_type": "stream",
     "text": [
      "5.0\n"
     ]
    }
   ],
   "source": [
    "print(psk(3,4))"
   ]
  },
  {
   "cell_type": "markdown",
   "id": "6af71bda-5456-4219-8c05-871527d4192d",
   "metadata": {},
   "source": [
    "# Task 3.\n",
    "### Generate two random numbers and calculate root sum squares ten times."
   ]
  },
  {
   "cell_type": "code",
   "execution_count": 4,
   "id": "d5af5e01-2ee9-4305-8e79-5d1572e06198",
   "metadata": {},
   "outputs": [
    {
     "name": "stdout",
     "output_type": "stream",
     "text": [
      "1: 11.154534367217263\n",
      "2: 8.671297576568557\n",
      "3: 4.883533805468139\n",
      "4: 7.907471513333502\n",
      "5: 3.6081609078609964\n",
      "6: 8.060293953268312\n",
      "7: 6.494471002715488\n",
      "8: 6.249790424101198\n",
      "9: 5.3490770092168445\n",
      "10: 6.3866860695961645\n"
     ]
    }
   ],
   "source": [
    "import random\n",
    "for i in range(1,11):\n",
    "    x=random.random()*10\n",
    "    y=random.random()*10\n",
    "    print(str(i) + ': ' + str(psk(x,y)))"
   ]
  },
  {
   "cell_type": "markdown",
   "id": "fd41fa03-76b6-45b5-aa2b-011e3faaf9fb",
   "metadata": {},
   "source": [
    "# Task 4.\n",
    "### Power of two calculator"
   ]
  },
  {
   "cell_type": "markdown",
   "id": "0dcf8625-5498-4534-85fd-aaea13e0cdcb",
   "metadata": {},
   "source": [
    "### Iterative version"
   ]
  },
  {
   "cell_type": "code",
   "execution_count": 10,
   "id": "15fec22e-3493-44e8-ae84-18a53f7ed512",
   "metadata": {},
   "outputs": [],
   "source": [
    "def powerTwoIter(x):\n",
    "    sum = 1\n",
    "    for i in range(1,x+1):\n",
    "        sum*=2\n",
    "    return sum"
   ]
  },
  {
   "cell_type": "markdown",
   "id": "9a796f4c-9589-4eee-8b80-53df4d92e79e",
   "metadata": {},
   "source": [
    "### Recursive version"
   ]
  },
  {
   "cell_type": "code",
   "execution_count": 11,
   "id": "4e81fd28-3d84-4ae7-9e83-3a546819c821",
   "metadata": {},
   "outputs": [],
   "source": [
    "def powerTwoRec(x):\n",
    "    if x == 0:\n",
    "        return 1\n",
    "    else:\n",
    "        return powerTwoRec(x-1) * 2"
   ]
  },
  {
   "cell_type": "markdown",
   "id": "4da343fb-8d93-404d-82f9-72b90820a5f6",
   "metadata": {},
   "source": [
    "### Testing"
   ]
  },
  {
   "cell_type": "code",
   "execution_count": 13,
   "id": "d72b2dfb-aaf0-435f-ad45-ee533117e080",
   "metadata": {},
   "outputs": [
    {
     "name": "stdout",
     "output_type": "stream",
     "text": [
      "32\n",
      "32\n"
     ]
    }
   ],
   "source": [
    "n = 5\n",
    "print(powerTwoIter(n))\n",
    "print(powerTwoRec(n))"
   ]
  },
  {
   "cell_type": "markdown",
   "id": "7378eac5-072b-46ec-b403-65fccddce433",
   "metadata": {},
   "source": [
    "# Task 5.\n",
    "### Show all even numbers in given range."
   ]
  },
  {
   "cell_type": "markdown",
   "id": "31bfa774-dca8-4f74-86bd-8e068ac089d9",
   "metadata": {},
   "source": [
    "### Iterative version"
   ]
  },
  {
   "cell_type": "code",
   "execution_count": 5,
   "id": "c6c7e0f3-8d32-4bf3-828b-1854dd0b2314",
   "metadata": {},
   "outputs": [],
   "source": [
    "def evenIter(a,b):\n",
    "    if a < b:\n",
    "        evenNumbers = []\n",
    "        for i in range(a+a%2, b+1, 2):\n",
    "            evenNumbers.append(i)\n",
    "        return evenNumbers\n",
    "    else:\n",
    "        return False"
   ]
  },
  {
   "cell_type": "markdown",
   "id": "fa8dd165-43b0-4651-92af-5136d9d73ecd",
   "metadata": {},
   "source": [
    "### Recursive version"
   ]
  },
  {
   "cell_type": "code",
   "execution_count": 6,
   "id": "4a42f1c5-12f2-4dde-865b-f51e2f7e24d5",
   "metadata": {},
   "outputs": [],
   "source": [
    "def evenRec(a,b, evenNumbers):\n",
    "    if a%2 != 0:\n",
    "        a += a%2\n",
    "    if a > b:\n",
    "        return evenNumbers\n",
    "    evenNumbers.append(a)\n",
    "    return evenRec(a+2, b, evenNumbers)"
   ]
  },
  {
   "cell_type": "markdown",
   "id": "b0d69634-7b0d-4fce-99c1-952207b505da",
   "metadata": {},
   "source": [
    "### Testing"
   ]
  },
  {
   "cell_type": "code",
   "execution_count": 9,
   "id": "963c21ac-6f2f-45d5-a617-c299f792211a",
   "metadata": {},
   "outputs": [
    {
     "name": "stdout",
     "output_type": "stream",
     "text": [
      "[4, 6, 8, 10, 12]\n",
      "[4, 6, 8, 10, 12]\n"
     ]
    }
   ],
   "source": [
    "a=3\n",
    "b=12\n",
    "print(evenIter(a,b))\n",
    "print(evenRec(a,b, []))"
   ]
  },
  {
   "cell_type": "markdown",
   "id": "ef189539-840a-40a1-bd8c-545e880d1ada",
   "metadata": {},
   "source": [
    "# Task 6.\n",
    "### Reverse string"
   ]
  },
  {
   "cell_type": "markdown",
   "id": "efa764c9-9dff-4ec0-ad38-f2e6a2cf73d1",
   "metadata": {},
   "source": [
    "### Iterative version"
   ]
  },
  {
   "cell_type": "code",
   "execution_count": 10,
   "id": "554f6741-a90d-45be-8674-535816bff39e",
   "metadata": {},
   "outputs": [],
   "source": [
    "def reverseIter(string):\n",
    "    reversedString = ''\n",
    "    for i in range(len(string)-1, -1, -1):\n",
    "        reversedString += string[i]\n",
    "    return reversedString"
   ]
  },
  {
   "cell_type": "markdown",
   "id": "d859055e-9521-4034-a3b8-c79569a4923e",
   "metadata": {},
   "source": [
    "### Recursive version"
   ]
  },
  {
   "cell_type": "code",
   "execution_count": 11,
   "id": "ec6ac41f-5dad-4b5c-8c6c-34aa3bb6bef2",
   "metadata": {},
   "outputs": [],
   "source": [
    "def reverseRec(string):\n",
    "    if len(string) == 0:\n",
    "        return string\n",
    "    else:\n",
    "        return reverseRec(string[1:]) + string[0]"
   ]
  },
  {
   "cell_type": "markdown",
   "id": "5aa20dc9-f870-42e7-9932-2ce5b933b170",
   "metadata": {},
   "source": [
    "### Testing"
   ]
  },
  {
   "cell_type": "code",
   "execution_count": 13,
   "id": "04bfd9f5-7ab0-4203-bee9-53f0c9d88f96",
   "metadata": {},
   "outputs": [
    {
     "name": "stdout",
     "output_type": "stream",
     "text": [
      "avaJ\n",
      "lufrewop si nohtyP\n"
     ]
    }
   ],
   "source": [
    "print(reverseIter('Java'))\n",
    "print(reverseRec('Python is powerful'))"
   ]
  },
  {
   "cell_type": "markdown",
   "id": "bf328ded-6399-4c9d-b910-82ef92ce7f64",
   "metadata": {},
   "source": [
    "# Task 7.\n",
    "### Caesar cipher encoder and decoder"
   ]
  },
  {
   "cell_type": "markdown",
   "id": "d347776c-f15d-4147-872c-86ee636d22aa",
   "metadata": {
    "tags": []
   },
   "source": [
    "### Iterative version"
   ]
  },
  {
   "cell_type": "code",
   "execution_count": 329,
   "id": "942607f4-d539-4754-a4fd-aebb4a8e890e",
   "metadata": {},
   "outputs": [],
   "source": [
    "def encryptIter(string, key):\n",
    "    result = \"\"\n",
    "    if key < 0 and key > 26:\n",
    "        return False\n",
    "    for i in range(len(string)):\n",
    "        char = string[i]\n",
    "        if (char.isupper()):\n",
    "            result += chr((ord(char) + key-65) % 26 + 65)\n",
    "        elif(char.islower()):\n",
    "            result += chr((ord(char) + key-97) % 26 + 97)\n",
    "        else:\n",
    "            result += \" \"\n",
    "    return result\n",
    "\n",
    "def decryptIter(string, key):\n",
    "    result = \"\"\n",
    "    if key < 0 and key > 26:\n",
    "        return False\n",
    "    for i in range(len(string)):\n",
    "        char = string[i]\n",
    "        if (char.isupper()):\n",
    "            result += chr((ord(char) - key-65) % 26 + 65)\n",
    "        elif(char.islower()):\n",
    "            result += chr((ord(char) - key-97) % 26 + 97)\n",
    "        else:\n",
    "            result += \" \"\n",
    "    return result"
   ]
  },
  {
   "cell_type": "markdown",
   "id": "3aae5c75-a74b-4a96-998a-0b1ba633bc59",
   "metadata": {},
   "source": [
    "### Recursive version"
   ]
  },
  {
   "cell_type": "code",
   "execution_count": 335,
   "id": "0e8cc8fb-5e99-4216-87df-252917967f76",
   "metadata": {},
   "outputs": [],
   "source": [
    "def encryptRec(string, key):\n",
    "    char = string[0]\n",
    "    result = \"\"\n",
    "    \n",
    "    if (char.isupper()):\n",
    "        result += chr((ord(char) + key-65) % 26 + 65)\n",
    "    elif(char.islower()):\n",
    "        result += chr((ord(char) + key-97) % 26 + 97)\n",
    "    else:\n",
    "        result += \" \"\n",
    "\n",
    "    if (len(string) > 1):\n",
    "        result += encryptRec(string[1:], key)\n",
    "\n",
    "    return result\n",
    "\n",
    "def decryptRec(string, key):\n",
    "    char = string[0]\n",
    "    result = \"\"\n",
    "    \n",
    "    if (char.isupper()):\n",
    "        result += chr((ord(char) - key-65) % 26 + 65)\n",
    "    elif(char.islower()):\n",
    "        result += chr((ord(char) - key-97) % 26 + 97)\n",
    "    else:\n",
    "        result += \" \"\n",
    "\n",
    "\n",
    "    if (len(string) > 1):\n",
    "        result += decryptRec(string[1:], key)\n",
    "\n",
    "    return result"
   ]
  },
  {
   "cell_type": "markdown",
   "id": "11c7450e-8df7-49fd-81dc-5daf0b6d6316",
   "metadata": {},
   "source": [
    "### Testing"
   ]
  },
  {
   "cell_type": "code",
   "execution_count": 337,
   "id": "1d91d277-402f-4a71-b0df-9c3c9b654012",
   "metadata": {},
   "outputs": [
    {
     "name": "stdout",
     "output_type": "stream",
     "text": [
      "Sbwkrq Sbwkrq\n",
      "Python Python\n",
      "Sbwkrq Sbwkrq\n",
      "Python Python\n"
     ]
    }
   ],
   "source": [
    "key = 3\n",
    "encryptedIter = encryptIter('Python Python', key)\n",
    "print(encryptedIter)\n",
    "print(decryptIter(encryptedIter, key))\n",
    "\n",
    "encryptedRec = encryptRec('Python Python', key)\n",
    "print(encryptedRec)\n",
    "print(decryptRec(encryptedRec, key))"
   ]
  },
  {
   "cell_type": "code",
   "execution_count": null,
   "id": "06d83a46-9132-44ef-961c-103f74775490",
   "metadata": {},
   "outputs": [],
   "source": []
  }
 ],
 "metadata": {
  "kernelspec": {
   "display_name": "Python 3 (ipykernel)",
   "language": "python",
   "name": "python3"
  },
  "language_info": {
   "codemirror_mode": {
    "name": "ipython",
    "version": 3
   },
   "file_extension": ".py",
   "mimetype": "text/x-python",
   "name": "python",
   "nbconvert_exporter": "python",
   "pygments_lexer": "ipython3",
   "version": "3.10.5"
  }
 },
 "nbformat": 4,
 "nbformat_minor": 5
}
